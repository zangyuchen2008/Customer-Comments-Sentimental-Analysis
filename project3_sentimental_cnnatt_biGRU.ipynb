{
  "nbformat": 4,
  "nbformat_minor": 0,
  "metadata": {
    "kernelspec": {
      "name": "python3",
      "display_name": "Python 3"
    },
    "colab": {
      "name": "project3_sentimental_cnnatt_biGRU.ipynb",
      "provenance": [],
      "collapsed_sections": [
        "uxJITf0TICR7"
      ]
    },
    "accelerator": "GPU"
  },
  "cells": [
    {
      "cell_type": "code",
      "metadata": {
        "id": "hb_FcghBNYaV",
        "colab_type": "code",
        "outputId": "48b4f6d3-f850-4070-e2a0-a793fc6c5f4b",
        "colab": {
          "base_uri": "https://localhost:8080/",
          "height": 125
        }
      },
      "source": [
        "from google.colab import drive\n",
        "drive.mount('/content/drive/')"
      ],
      "execution_count": 1,
      "outputs": [
        {
          "output_type": "stream",
          "text": [
            "Go to this URL in a browser: https://accounts.google.com/o/oauth2/auth?client_id=947318989803-6bn6qk8qdgf4n4g3pfee6491hc0brc4i.apps.googleusercontent.com&redirect_uri=urn%3aietf%3awg%3aoauth%3a2.0%3aoob&response_type=code&scope=email%20https%3a%2f%2fwww.googleapis.com%2fauth%2fdocs.test%20https%3a%2f%2fwww.googleapis.com%2fauth%2fdrive%20https%3a%2f%2fwww.googleapis.com%2fauth%2fdrive.photos.readonly%20https%3a%2f%2fwww.googleapis.com%2fauth%2fpeopleapi.readonly\n",
            "\n",
            "Enter your authorization code:\n",
            "··········\n",
            "Mounted at /content/drive/\n"
          ],
          "name": "stdout"
        }
      ]
    },
    {
      "cell_type": "code",
      "metadata": {
        "id": "4tAFMkWeXWbl",
        "colab_type": "code",
        "colab": {}
      },
      "source": [
        "# !git clone https://github.com/zangyuchen2008/StopWords '/content/drive/My Drive/app/Stopwords'"
      ],
      "execution_count": 0,
      "outputs": []
    },
    {
      "cell_type": "code",
      "metadata": {
        "id": "mq_QCztFXfv_",
        "colab_type": "code",
        "outputId": "f7b4ce74-3360-4e5f-a643-8aa37d96c1ad",
        "colab": {
          "base_uri": "https://localhost:8080/",
          "height": 52
        }
      },
      "source": [
        "!ls '/content/drive/My Drive/app/'"
      ],
      "execution_count": 3,
      "outputs": [
        {
          "output_type": "stream",
          "text": [
            "GPUtest.ipynb\t      mnist_cnn.py\t    Stopwords\n",
            "keras-mnist-tutorial  senti_classification  Titanic.csv\n"
          ],
          "name": "stdout"
        }
      ]
    },
    {
      "cell_type": "code",
      "metadata": {
        "id": "6Im6ZM_SICRY",
        "colab_type": "code",
        "colab": {}
      },
      "source": [
        "from sklearn.preprocessing import LabelBinarizer\n",
        "import numpy as np \n",
        "import pandas as pd\n",
        "import os\n",
        "import pickle\n",
        "import jieba\n",
        "import re "
      ],
      "execution_count": 0,
      "outputs": []
    },
    {
      "cell_type": "code",
      "metadata": {
        "id": "ptMVNeR1ICRc",
        "colab_type": "code",
        "colab": {}
      },
      "source": [
        "# path\n",
        "father_path= r'/content/drive/My Drive/app/senti_classification'\n",
        "fasttext_w2v_path = os.path.join(father_path, 'w2v_model','cc.zh.300.vec')\n",
        "trainset_path = os.path.join(father_path, 'data','train','sentiment_analysis_trainingset.csv')\n",
        "validationset_path = os.path.join(father_path, 'data','validation','sentiment_analysis_validationset.csv')\n",
        "testset_path = os.path.join(father_path, 'data','test','sentiment_analysis_testa.csv')\n",
        "stop_word_path = os.path.join(father_path,'data','stop_words.plk')"
      ],
      "execution_count": 0,
      "outputs": []
    },
    {
      "cell_type": "code",
      "metadata": {
        "id": "irAl_aXMICRf",
        "colab_type": "code",
        "colab": {}
      },
      "source": [
        "train = pd.read_csv(trainset_path,sep=',',encoding='utf8')\n",
        "validation = pd.read_csv(validationset_path,sep=',',encoding='utf8')\n",
        "test = pd.read_csv(testset_path,sep=',',encoding='utf8')"
      ],
      "execution_count": 0,
      "outputs": []
    },
    {
      "cell_type": "markdown",
      "metadata": {
        "id": "2JuAyFP3ICRi",
        "colab_type": "text"
      },
      "source": [
        "## Lable encode"
      ]
    },
    {
      "cell_type": "code",
      "metadata": {
        "id": "dMg73jabICRj",
        "colab_type": "code",
        "colab": {}
      },
      "source": [
        "bi_encode = LabelBinarizer()\n",
        "encodes =[]\n",
        "target_train = train[['dish_taste']]\n",
        "for index,v in enumerate(target_train.values.T):\n",
        "    encodes.append(bi_encode.fit_transform(v))\n",
        "encodes = np.array(encodes)\n",
        "y_tra = np.concatenate(encodes,axis=1)\n",
        "\n",
        "target_val = validation[['dish_taste']]\n",
        "encodes =[]\n",
        "for index,v in enumerate(target_val.values.T):\n",
        "    encodes.append(bi_encode.fit_transform(v))\n",
        "encodes = np.array(encodes)\n",
        "y_val = np.concatenate(encodes,axis=1)"
      ],
      "execution_count": 0,
      "outputs": []
    },
    {
      "cell_type": "markdown",
      "metadata": {
        "id": "uH6C_J2qICRm",
        "colab_type": "text"
      },
      "source": [
        "## tokenlization"
      ]
    },
    {
      "cell_type": "code",
      "metadata": {
        "id": "kuQPBeMWSynw",
        "colab_type": "code",
        "outputId": "49467438-8a66-4aa8-e940-260d9b42b8f5",
        "colab": {
          "base_uri": "https://localhost:8080/",
          "height": 403
        }
      },
      "source": [
        "list(train)"
      ],
      "execution_count": 8,
      "outputs": [
        {
          "output_type": "execute_result",
          "data": {
            "text/plain": [
              "['id',\n",
              " 'content',\n",
              " 'location_traffic_convenience',\n",
              " 'location_distance_from_business_district',\n",
              " 'location_easy_to_find',\n",
              " 'service_wait_time',\n",
              " 'service_waiters_attitude',\n",
              " 'service_parking_convenience',\n",
              " 'service_serving_speed',\n",
              " 'price_level',\n",
              " 'price_cost_effective',\n",
              " 'price_discount',\n",
              " 'environment_decoration',\n",
              " 'environment_noise',\n",
              " 'environment_space',\n",
              " 'environment_cleaness',\n",
              " 'dish_portion',\n",
              " 'dish_taste',\n",
              " 'dish_look',\n",
              " 'dish_recommendation',\n",
              " 'others_overall_experience',\n",
              " 'others_willing_to_consume_again']"
            ]
          },
          "metadata": {
            "tags": []
          },
          "execution_count": 8
        }
      ]
    },
    {
      "cell_type": "code",
      "metadata": {
        "id": "rBN17J5kVdGW",
        "colab_type": "code",
        "outputId": "c0270add-3d28-4888-d9cf-03b002735879",
        "colab": {
          "base_uri": "https://localhost:8080/",
          "height": 782
        }
      },
      "source": [
        "import matplotlib.pyplot as plt\n",
        "train.iloc[:,2:].hist(bins=[-2.5,-1.5,-0.5,0.5,1.5], figsize=(20,15))\n",
        "plt.show()"
      ],
      "execution_count": 34,
      "outputs": [
        {
          "output_type": "display_data",
          "data": {
            "image/png": "[encoded data removed]",
            "text/plain": [
              "<Figure size 1440x1080 with 20 Axes>"
            ]
          },
          "metadata": {
            "tags": [],
            "needs_background": "light"
          }
        }
      ]
    },
    {
      "cell_type": "code",
      "metadata": {
        "id": "OmPGjA7QICRm",
        "colab_type": "code",
        "colab": {}
      },
      "source": [
        "def cut(sen):\n",
        "    a2=jieba.cut(sen)\n",
        "    pattern = re.compile('\\w+')\n",
        "    a2=list(filter(pattern.match,a2))\n",
        "    return a2"
      ],
      "execution_count": 0,
      "outputs": []
    },
    {
      "cell_type": "code",
      "metadata": {
        "id": "S60Ip_eGICRp",
        "colab_type": "code",
        "colab": {}
      },
      "source": [
        "# x_tra = train['content'].apply(cut)\n",
        "# x_val = validation['content'].apply(cut)\n",
        "# x_te = test['content'].apply(cut)"
      ],
      "execution_count": 0,
      "outputs": []
    },
    {
      "cell_type": "code",
      "metadata": {
        "id": "ORLCPHxvNE5h",
        "colab_type": "code",
        "colab": {}
      },
      "source": [
        "# pickle.dump([x_tra,x_val,x_te],open(os.path.join(father_path,'cut_tokens.pkl'),'wb'))"
      ],
      "execution_count": 0,
      "outputs": []
    },
    {
      "cell_type": "code",
      "metadata": {
        "id": "kEhDqcZGNkgt",
        "colab_type": "code",
        "colab": {}
      },
      "source": [
        "# x_tra,x_val,x_te = pickle.load(open(os.path.join(father_path,'cut_tokens.pkl'),'rb'))"
      ],
      "execution_count": 0,
      "outputs": []
    },
    {
      "cell_type": "code",
      "metadata": {
        "id": "29ciQq1ZXqGg",
        "colab_type": "code",
        "colab": {}
      },
      "source": [
        "# stopwords=pd.read_csv('/content/drive/My Drive/app/Stopwords/stopwords/中文停用词库.txt',encoding='gb2312')\n",
        "# stopwords= stopwords.values.reshape(745,)"
      ],
      "execution_count": 0,
      "outputs": []
    },
    {
      "cell_type": "code",
      "metadata": {
        "id": "FkmIue8MhEN4",
        "colab_type": "code",
        "colab": {}
      },
      "source": [
        "# x_tra = x_tra.apply(lambda x: [w for w in x if w not in stopwords]) \n",
        "# x_val = x_val.apply(lambda x: [w for w in x if w not in stopwords]) \n",
        "# x_te = x_te.apply(lambda x: [w for w in x if w not in stopwords])"
      ],
      "execution_count": 0,
      "outputs": []
    },
    {
      "cell_type": "code",
      "metadata": {
        "id": "-iL4H25VpZ38",
        "colab_type": "code",
        "colab": {}
      },
      "source": [
        "# pickle.dump([x_tra,x_val,x_te],open(os.path.join(father_path,'cut_tokens_wo_stopwords.pkl'),'wb'))"
      ],
      "execution_count": 0,
      "outputs": []
    },
    {
      "cell_type": "code",
      "metadata": {
        "id": "x21l4MobqLdg",
        "colab_type": "code",
        "colab": {}
      },
      "source": [
        "x_tra,x_val,x_te = pickle.load(open(os.path.join(father_path,'cut_tokens_wo_stopwords.pkl'),'rb'))"
      ],
      "execution_count": 0,
      "outputs": []
    },
    {
      "cell_type": "markdown",
      "metadata": {
        "id": "yJ2Idft2ICRt",
        "colab_type": "text"
      },
      "source": [
        "## sentense embedding"
      ]
    },
    {
      "cell_type": "code",
      "metadata": {
        "id": "2xK1rWO6ICRu",
        "colab_type": "code",
        "outputId": "35d15329-71ba-42f2-9878-3b18ae4a9c74",
        "colab": {
          "base_uri": "https://localhost:8080/",
          "height": 34
        }
      },
      "source": [
        "from sklearn.model_selection import train_test_split\n",
        "from sklearn.metrics import roc_auc_score\n",
        "from keras.models import Model\n",
        "from keras.layers import Input, Dense, Embedding, SpatialDropout1D, concatenate\n",
        "from keras.layers import GRU, Bidirectional, GlobalAveragePooling1D, GlobalMaxPooling1D\n",
        "from keras.preprocessing import text, sequence\n",
        "from keras.callbacks import Callback\n",
        "import warnings\n",
        "warnings.filterwarnings('ignore')\n",
        "import os\n",
        "os.environ['OMP_NUM_THREADS'] = '4'\n",
        "np.random.seed(42)"
      ],
      "execution_count": 18,
      "outputs": [
        {
          "output_type": "stream",
          "text": [
            "Using TensorFlow backend.\n"
          ],
          "name": "stderr"
        }
      ]
    },
    {
      "cell_type": "markdown",
      "metadata": {
        "id": "9tU1c3qkICRx",
        "colab_type": "text"
      },
      "source": [
        "#### create word index vocabulary"
      ]
    },
    {
      "cell_type": "code",
      "metadata": {
        "id": "1OG1IS5QICRx",
        "colab_type": "code",
        "colab": {}
      },
      "source": [
        "max_features = 30000\n",
        "maxlen = 400\n",
        "embed_size = 300\n",
        "tokenizer = text.Tokenizer(num_words=max_features)#create a tokenizer class with max token limit\n",
        "tokenizer.fit_on_texts(list(x_tra)+list(x_val)+list(x_te)) # texts: can be a list of list of strings."
      ],
      "execution_count": 0,
      "outputs": []
    },
    {
      "cell_type": "markdown",
      "metadata": {
        "id": "mXZYtVX0ICR0",
        "colab_type": "text"
      },
      "source": [
        "#### tranform sentense into index integers"
      ]
    },
    {
      "cell_type": "code",
      "metadata": {
        "id": "QRdIBhk1ICR1",
        "colab_type": "code",
        "colab": {}
      },
      "source": [
        "X_train = tokenizer.texts_to_sequences(x_tra)# create index(comming from vocabulary) based integer list to represent sequence\n",
        "X_valid = tokenizer.texts_to_sequences(x_val)\n",
        "X_test = tokenizer.texts_to_sequences(x_te)"
      ],
      "execution_count": 0,
      "outputs": []
    },
    {
      "cell_type": "markdown",
      "metadata": {
        "id": "bXhjYFCXICR3",
        "colab_type": "text"
      },
      "source": [
        "#### padding to make fixed input length"
      ]
    },
    {
      "cell_type": "code",
      "metadata": {
        "id": "7zqRj4YEICR4",
        "colab_type": "code",
        "colab": {}
      },
      "source": [
        "x_train = sequence.pad_sequences(X_train, maxlen=maxlen) # padding zeros to make 100 length encoded seq list, the default padding is pre padding\n",
        "x_valid = sequence.pad_sequences(X_valid, maxlen=maxlen)\n",
        "x_test = sequence.pad_sequences(X_test, maxlen=maxlen)"
      ],
      "execution_count": 0,
      "outputs": []
    },
    {
      "cell_type": "markdown",
      "metadata": {
        "id": "uxJITf0TICR7",
        "colab_type": "text"
      },
      "source": [
        "#### create embedding"
      ]
    },
    {
      "cell_type": "code",
      "metadata": {
        "id": "DLL_KpueICR7",
        "colab_type": "code",
        "colab": {}
      },
      "source": [
        "# from gensim.models import KeyedVectors"
      ],
      "execution_count": 0,
      "outputs": []
    },
    {
      "cell_type": "code",
      "metadata": {
        "id": "RlnzzBE3ICR-",
        "colab_type": "code",
        "colab": {}
      },
      "source": [
        "# w2v = pickle.load(open(os.path.join(father_path,'fasttext.plk'),'rb'))"
      ],
      "execution_count": 0,
      "outputs": []
    },
    {
      "cell_type": "code",
      "metadata": {
        "id": "b19rA8QWICSF",
        "colab_type": "code",
        "colab": {}
      },
      "source": [
        "# word_index = tokenizer.word_index\n",
        "# nb_words = min(max_features, len(word_index))\n",
        "# embedding_matrix = np.zeros((nb_words, embed_size))\n",
        "# for word, i in word_index.items():\n",
        "#     if i >= max_features: continue\n",
        "# #     embedding_vector = w2v[word]\n",
        "#     if word in w2v: embedding_matrix[i] = w2v[word]"
      ],
      "execution_count": 0,
      "outputs": []
    },
    {
      "cell_type": "code",
      "metadata": {
        "id": "wgYaHuMDICSH",
        "colab_type": "code",
        "colab": {}
      },
      "source": [
        "# pickle.dump(embedding_matrix,open('embedding_matrix.plk','wb'))"
      ],
      "execution_count": 0,
      "outputs": []
    },
    {
      "cell_type": "code",
      "metadata": {
        "id": "kHiCLehBOO2p",
        "colab_type": "code",
        "colab": {}
      },
      "source": [
        "embedding_matrix= pickle.load(open(os.path.join(father_path,'embedding_matrix.plk'),'rb'))"
      ],
      "execution_count": 0,
      "outputs": []
    },
    {
      "cell_type": "markdown",
      "metadata": {
        "id": "7Kr-i_K2ICSK",
        "colab_type": "text"
      },
      "source": [
        "## create model"
      ]
    },
    {
      "cell_type": "markdown",
      "metadata": {
        "id": "a_OBefrB3bE8",
        "colab_type": "text"
      },
      "source": [
        "GRU model"
      ]
    },
    {
      "cell_type": "code",
      "metadata": {
        "id": "u_0H9A3XICSK",
        "colab_type": "code",
        "colab": {}
      },
      "source": [
        "from sklearn.metrics import precision_score"
      ],
      "execution_count": 0,
      "outputs": []
    },
    {
      "cell_type": "code",
      "metadata": {
        "id": "LrKjej30ICSN",
        "colab_type": "code",
        "colab": {}
      },
      "source": [
        "class GRUEvaluation(Callback):\n",
        "    def __init__(self, validation_data=(), interval=1):\n",
        "        super(Callback, self).__init__()\n",
        "\n",
        "        self.interval = interval\n",
        "        self.X_val, self.y_val = validation_data\n",
        "\n",
        "    def on_epoch_end(self, epoch, logs={}):\n",
        "        if epoch % self.interval == 0:\n",
        "            y_pred = self.model.predict(self.X_val, verbose=0)\n",
        "            y_pred = y_pred>0.5\n",
        "            pre_score = precision_score(self.y_val, y_pred,average='macro') #,average='weighted'\n",
        "            print(\"\\n ROC-AUC - epoch: %d - pre_score: %.6f \\n\" % (epoch+1, pre_score))"
      ],
      "execution_count": 0,
      "outputs": []
    },
    {
      "cell_type": "code",
      "metadata": {
        "id": "7XMyNTMuICSQ",
        "colab_type": "code",
        "colab": {}
      },
      "source": [
        "def get_model():\n",
        "    inp = Input(shape=(maxlen, ))\n",
        "    x = Embedding(max_features, embed_size, weights=[embedding_matrix])(inp)\n",
        "    x = SpatialDropout1D(0.2)(x)\n",
        "    x = Bidirectional(GRU(10, return_sequences=True))(x) #bidirectional has two inputs if not specified, see keras doc ,units: Positive integer, dimensionality of the output space.\n",
        "    avg_pool = GlobalAveragePooling1D()(x) # average over features along time steps direction, l\n",
        "    max_pool = GlobalMaxPooling1D()(x)\n",
        "    conc = concatenate([avg_pool, max_pool]) # concatenate along axis of avg or max_pool in the list by default, input must be list of tensors\n",
        "    outp = Dense(4, activation=\"sigmoid\")(conc)\n",
        "    \n",
        "    model = Model(inputs=inp, outputs=outp)\n",
        "    model.compile(loss='categorical_crossentropy',\n",
        "                  optimizer='adam',\n",
        "                  metrics=['accuracy'])\n",
        "    # model.compile(loss='binary_crossentropy',\n",
        "    #               optimizer='adam',\n",
        "    #               metrics=['accuracy'])\n",
        "    return model"
      ],
      "execution_count": 0,
      "outputs": []
    },
    {
      "cell_type": "markdown",
      "metadata": {
        "id": "piqtoJy23WsO",
        "colab_type": "text"
      },
      "source": [
        "cnn plus attention model"
      ]
    },
    {
      "cell_type": "code",
      "metadata": {
        "id": "eYQpyL7dwomw",
        "colab_type": "code",
        "colab": {}
      },
      "source": [
        "import tensorflow as tf "
      ],
      "execution_count": 0,
      "outputs": []
    },
    {
      "cell_type": "code",
      "metadata": {
        "id": "nOvpZCr6ltmZ",
        "colab_type": "code",
        "colab": {}
      },
      "source": [
        "class ATTEvaluation(tf.keras.callbacks.Callback):\n",
        "    def __init__(self, validation_data=(), interval=1):\n",
        "        super(tf.keras.callbacks.Callback, self).__init__()\n",
        "\n",
        "        self.interval = interval\n",
        "        self.X_val, self.y_val = validation_data\n",
        "\n",
        "    def on_epoch_end(self, epoch, logs={}):\n",
        "        if epoch % self.interval == 0:\n",
        "            y_pred = self.model.predict(self.X_val, verbose=0)\n",
        "            y_pred = y_pred > 0.5\n",
        "            pre_score = precision_score(self.y_val, y_pred,average='macro') #,average='weighted'\n",
        "            print(\"\\n ROC-AUC - epoch: %d - pre_score: %.6f \\n\" % (epoch+1, pre_score))"
      ],
      "execution_count": 0,
      "outputs": []
    },
    {
      "cell_type": "code",
      "metadata": {
        "id": "hl-F84kvwj0q",
        "colab_type": "code",
        "colab": {}
      },
      "source": [
        "def get_cnn_attention_model():\n",
        "  # Variable-length int sequences.\n",
        "  query_input = tf.keras.Input(shape=(maxlen,), dtype='int32')\n",
        "  # value_input = tf.keras.Input(shape=(None,), dtype='int32')\n",
        "\n",
        "  # Embedding lookup.\n",
        "  token_embedding = tf.keras.layers.Embedding(max_features, embed_size)\n",
        "  # Query embeddings of shape [batch_size, Tq, dimension].\n",
        "  query_embeddings = token_embedding(query_input)\n",
        "  # Value embeddings of shape [batch_size, Tv, dimension].\n",
        "  value_embeddings = token_embedding(query_input)\n",
        "\n",
        "  # CNN layer.\n",
        "  cnn_layer = tf.keras.layers.Conv1D(\n",
        "      filters=100,\n",
        "      kernel_size=4,\n",
        "      # Use 'same' padding so outputs have the same shape as inputs.\n",
        "      padding='same')\n",
        "  # Query encoding of shape [batch_size, Tq, filters].\n",
        "  query_seq_encoding = cnn_layer(query_embeddings)\n",
        "  # Value encoding of shape [batch_size, Tv, filters].\n",
        "  value_seq_encoding = cnn_layer(value_embeddings)\n",
        "\n",
        "  # Query-value attention of shape [batch_size, Tq, filters].\n",
        "  query_value_attention_seq = tf.keras.layers.Attention()(\n",
        "      [query_seq_encoding, value_seq_encoding])\n",
        "\n",
        "  # Reduce over the sequence axis to produce encodings of shape\n",
        "  # [batch_size, filters].\n",
        "  query_encoding = tf.keras.layers.GlobalAveragePooling1D()(\n",
        "      query_seq_encoding)\n",
        "  query_value_attention = tf.keras.layers.GlobalAveragePooling1D()(\n",
        "      query_value_attention_seq)\n",
        "\n",
        "  # Concatenate query and document encodings to produce a DNN input layer.\n",
        "  input_layer = tf.keras.layers.Concatenate()(\n",
        "      [query_encoding, query_value_attention])\n",
        "  output_layer = tf.keras.layers.Dense(4,activation=\"sigmoid\")(input_layer)\n",
        "  model = tf.keras.Model(inputs=query_input,outputs=output_layer)\n",
        "  model.compile(loss='categorical_crossentropy',\n",
        "                  optimizer='adam',\n",
        "                  metrics=['accuracy'])\n",
        "  return model"
      ],
      "execution_count": 0,
      "outputs": []
    },
    {
      "cell_type": "markdown",
      "metadata": {
        "id": "oPIq52PQICSS",
        "colab_type": "text"
      },
      "source": [
        "## Train"
      ]
    },
    {
      "cell_type": "code",
      "metadata": {
        "id": "MyYpNgDQzqWx",
        "colab_type": "code",
        "colab": {
          "base_uri": "https://localhost:8080/",
          "height": 509
        },
        "outputId": "2ca917c4-b7b0-4e88-c2fa-fd086c567275"
      },
      "source": [
        "at_model= get_cnn_attention_model()\n",
        "at_model.summary()"
      ],
      "execution_count": 74,
      "outputs": [
        {
          "output_type": "stream",
          "text": [
            "Model: \"model_2\"\n",
            "__________________________________________________________________________________________________\n",
            "Layer (type)                    Output Shape         Param #     Connected to                     \n",
            "==================================================================================================\n",
            "input_7 (InputLayer)            [(None, 400)]        0                                            \n",
            "__________________________________________________________________________________________________\n",
            "embedding_2 (Embedding)         (None, 400, 300)     9000000     input_7[0][0]                    \n",
            "                                                                 input_7[0][0]                    \n",
            "__________________________________________________________________________________________________\n",
            "conv1d_2 (Conv1D)               (None, 400, 100)     120100      embedding_2[0][0]                \n",
            "                                                                 embedding_2[1][0]                \n",
            "__________________________________________________________________________________________________\n",
            "attention_2 (Attention)         (None, 400, 100)     0           conv1d_2[0][0]                   \n",
            "                                                                 conv1d_2[1][0]                   \n",
            "__________________________________________________________________________________________________\n",
            "global_average_pooling1d_4 (Glo (None, 100)          0           conv1d_2[0][0]                   \n",
            "__________________________________________________________________________________________________\n",
            "global_average_pooling1d_5 (Glo (None, 100)          0           attention_2[0][0]                \n",
            "__________________________________________________________________________________________________\n",
            "concatenate_2 (Concatenate)     (None, 200)          0           global_average_pooling1d_4[0][0] \n",
            "                                                                 global_average_pooling1d_5[0][0] \n",
            "__________________________________________________________________________________________________\n",
            "dense_2 (Dense)                 (None, 4)            804         concatenate_2[0][0]              \n",
            "==================================================================================================\n",
            "Total params: 9,120,904\n",
            "Trainable params: 9,120,904\n",
            "Non-trainable params: 0\n",
            "__________________________________________________________________________________________________\n"
          ],
          "name": "stdout"
        }
      ]
    },
    {
      "cell_type": "code",
      "metadata": {
        "id": "oXUo8ndZICSS",
        "colab_type": "code",
        "outputId": "b4b69112-f7af-4c69-dfd0-1d33e1089fcb",
        "colab": {
          "base_uri": "https://localhost:8080/",
          "height": 456
        }
      },
      "source": [
        "model=get_model()\n",
        "model.summary()"
      ],
      "execution_count": 75,
      "outputs": [
        {
          "output_type": "stream",
          "text": [
            "Model: \"model_2\"\n",
            "__________________________________________________________________________________________________\n",
            "Layer (type)                    Output Shape         Param #     Connected to                     \n",
            "==================================================================================================\n",
            "input_8 (InputLayer)            (None, 400)          0                                            \n",
            "__________________________________________________________________________________________________\n",
            "embedding_2 (Embedding)         (None, 400, 300)     9000000     input_8[0][0]                    \n",
            "__________________________________________________________________________________________________\n",
            "spatial_dropout1d_2 (SpatialDro (None, 400, 300)     0           embedding_2[0][0]                \n",
            "__________________________________________________________________________________________________\n",
            "bidirectional_2 (Bidirectional) (None, 400, 20)      18660       spatial_dropout1d_2[0][0]        \n",
            "__________________________________________________________________________________________________\n",
            "global_average_pooling1d_2 (Glo (None, 20)           0           bidirectional_2[0][0]            \n",
            "__________________________________________________________________________________________________\n",
            "global_max_pooling1d_2 (GlobalM (None, 20)           0           bidirectional_2[0][0]            \n",
            "__________________________________________________________________________________________________\n",
            "concatenate_2 (Concatenate)     (None, 40)           0           global_average_pooling1d_2[0][0] \n",
            "                                                                 global_max_pooling1d_2[0][0]     \n",
            "__________________________________________________________________________________________________\n",
            "dense_2 (Dense)                 (None, 4)            164         concatenate_2[0][0]              \n",
            "==================================================================================================\n",
            "Total params: 9,018,824\n",
            "Trainable params: 9,018,824\n",
            "Non-trainable params: 0\n",
            "__________________________________________________________________________________________________\n"
          ],
          "name": "stdout"
        }
      ]
    },
    {
      "cell_type": "code",
      "metadata": {
        "id": "1u-cxwY5ICSU",
        "colab_type": "code",
        "colab": {
          "base_uri": "https://localhost:8080/",
          "height": 456
        },
        "outputId": "ac2a5ec7-cff9-45a7-d8f7-4bfdb2ce737a"
      },
      "source": [
        "batch_size = 128\n",
        "epochs = 2\n",
        "RocAuc = ATTEvaluation(validation_data=(x_valid, y_val), interval=1)\n",
        "\n",
        "hist = at_model.fit(x_train, y_tra, batch_size=batch_size, epochs=epochs, validation_data=(x_valid, y_val),callbacks=[RocAuc], verbose=2)"
      ],
      "execution_count": 64,
      "outputs": [
        {
          "output_type": "stream",
          "text": [
            "Epoch 1/5\n",
            "\n",
            " ROC-AUC - epoch: 1 - pre_score: 0.617293 \n",
            "\n",
            "821/821 - 131s - loss: 0.7670 - accuracy: 0.6470 - val_loss: 0.6833 - val_accuracy: 0.7053\n",
            "Epoch 2/5\n",
            "\n",
            " ROC-AUC - epoch: 2 - pre_score: 0.723726 \n",
            "\n",
            "821/821 - 129s - loss: 0.5937 - accuracy: 0.7457 - val_loss: 0.7003 - val_accuracy: 0.7046\n",
            "Epoch 3/5\n",
            "\n",
            " ROC-AUC - epoch: 3 - pre_score: 0.715949 \n",
            "\n",
            "821/821 - 129s - loss: 0.4992 - accuracy: 0.7882 - val_loss: 0.7118 - val_accuracy: 0.7036\n",
            "Epoch 4/5\n",
            "\n",
            " ROC-AUC - epoch: 4 - pre_score: 0.711878 \n",
            "\n",
            "821/821 - 129s - loss: 0.3992 - accuracy: 0.8356 - val_loss: 0.8307 - val_accuracy: 0.6926\n",
            "Epoch 5/5\n",
            "\n",
            " ROC-AUC - epoch: 5 - pre_score: 0.704992 \n",
            "\n",
            "821/821 - 130s - loss: 0.3053 - accuracy: 0.8763 - val_loss: 0.9560 - val_accuracy: 0.6835\n"
          ],
          "name": "stdout"
        }
      ]
    },
    {
      "cell_type": "code",
      "metadata": {
        "id": "F9gGV6WLTtPz",
        "colab_type": "code",
        "colab": {}
      },
      "source": [
        "# batch_size = 64\n",
        "# epochs = 1\n",
        "# RocAuc = GRUEvaluation(validation_data=(x_valid, y_val), interval=1)\n",
        "\n",
        "# hist = model.fit(x_train[:1000,:], y_tra[:1000,:], batch_size=batch_size, epochs=epochs, validation_data=(x_valid[:1000,:], y_val[:1000,:]),callbacks=[RocAuc], verbose=2)"
      ],
      "execution_count": 0,
      "outputs": []
    },
    {
      "cell_type": "code",
      "metadata": {
        "id": "6bPN4xkHh_-F",
        "colab_type": "code",
        "outputId": "ba56a6f9-875b-48f4-8685-4891a29d2061",
        "colab": {
          "base_uri": "https://localhost:8080/",
          "height": 1000
        }
      },
      "source": [
        "for index in range(1000,1010):\n",
        "  print(validation['content'][index])\n",
        "  print('gold:',np.argmax(y_val[index]))\n",
        "  print('pretict:',np.argmax(at_model.predict(x_valid[index].reshape(1,400))))\n",
        "  print('**********************************************')"
      ],
      "execution_count": 82,
      "outputs": [
        {
          "output_type": "stream",
          "text": [
            "\"有幸抽中了一茶一坐22道奢华台宴的体验，老板亲自主持，边吃边介绍，既品尝了美食，又学到了知识，太有收获了\n",
            "总体感觉就是：食材精挑细选，制作工程精益求精，成品色香味俱全\n",
            "庆元有机木耳，木耳肉厚，口感好，清淡爽口\n",
            "宝岛三杯鸡，强力推荐，全部采用鸡腿部位，用油滑过，肉质很嫩，紧致滑嫩，配上九层塔，非常好吃，里边的蒜瓣都很香呢\n",
            "台湾夜市全家福（五拼），我只吃到了其中的两种，油炸食品，外焦里嫩\n",
            "阿嫲麻油鸡，汤鲜鸡美，用的是黑芝麻油，很香\n",
            "浓情熏香子排，炸过的小排很有嚼劲，小排应该是腌制过的，很有味道，好吃\n",
            "宝岛三杯中卷，\n",
            "凤梨虾球，虾仁裹了面糊炸过，辅以菠萝，特别配制了添加了百香果的汁液，占着吃，别有一番滋味，吃后，唇齿留香\n",
            "\n",
            "台湾海捞褔仔鱼，台湾特产的福仔鱼，肉厚刺少，鲜美多汁，没有一点儿鱼腥味\n",
            "麻辣牛蛙，牛蛙滑嫩，豆腐也很入味\n",
            "客家鱼香豆腐，偏甜口\n",
            "客家菜脯蛋，鸡蛋里有肉哟，配上洋葱，很香，但有的油腻\n",
            "眷村牛筋腩萝卜煲（红烧），强力推荐，里边的每一样食材都好好吃啊，萝卜、牛肉、牛筋，都很入味，酥软而不烂\n",
            "菌菇空心菜，菌菇酱有点儿辣味，还是很下饭的\n",
            "台式海鲜酸辣汤，不错的味道，用料十足\n",
            "四神汤，强力推荐，薏仁米、莲子、猪肚等等，汤特别鲜美，大爱啊\n",
            "卤肉饭，很美味，有两种浇头，一种是肉燥，一种是肉条，味道超好吃，老板说他家绝对是最正宗的卤肉饭，确实比我在其他地方吃到的要好吃很多，不光料好，就是单吃米饭，也很香，他家的米饭是寒香米饭\n",
            "木瓜牛奶，没有添加剂，就是纯粹的木瓜加牛奶，美味很赞\n",
            "\n",
            "年轮蛋糕，我喜欢里边的部分\n",
            "\"\n",
            "gold: 3\n",
            "pretict: 3\n",
            "**********************************************\n",
            "\"连续去吃了两天，因为味道蛮不错的。就是门面有点小，进去太挤了，选菜的地方很靠座位，所以进去坐的时候不方便，我抱着小孩走也走不进去，前面挡着个人在选菜，动都不动一个，无语啊。其实服务生也蛮多的，就是都顾着干活。每次去乌鸡卷，鸭血，都是必点的菜品，超级好吃，偶尔也点牛肚味道也蛮好的。点点的素菜也要点很多，超级好吃。每次都是竖着进去恨不得躺着出来，好吃的。什么都好，就是服务很需要提高。菜品本身蛮不错的。\"\n",
            "gold: 3\n",
            "pretict: 3\n",
            "**********************************************\n",
            "\"收藏很久，特意过来拔草，太让人失望了，首先食材不新鲜，在日料里简直是要命，芥末螺肉，吃起来很浓重的冰箱哈拉味儿，带点骚气，找服务员协调，结果就是态度好好的和你说不能退也不能换。\n",
            "排队人有点多，竟然没有拿号机制，全靠服务员记忆力，结果服务员记忆力不好，明明排队排的早却让晚来的人去吃饭，去告诉他们我们来的很早，应该是我们，就一群服务员跑来找各种理由说不是他们的错儿。\n",
            "整个店没有整体的培训和成套流程，管理上乱的不行。\n",
            "下图就是不新鲜的芥末螺片，对比一下芳草地的一家日料店的芥末螺片。\n",
            "其他菜也不好吃。水平很低。\n",
            "服务人员有爱撒谎的潜质，不好。\n",
            "差评！\"\n",
            "gold: 1\n",
            "pretict: 1\n",
            "**********************************************\n",
            "\"和传说中的一样好。十月一日去消费的，因为还是之前特价29元团的价格，连大堂经理都说真的很划算。也没像有的商家那样节假日不可享用之类的。新的装修很高大上，菜品很丰富，烤肉很不错，有新鲜刨出的和韩式两种。烧烤区味道相当的赞，总是排队，呵呵。火锅也不错，清淡一点的比较符合我的口味。提个意见下次猪排最好切开一下不要给人一整块的吃，感觉自助餐吃一份猪排很浪费。最后店家还给了一张发票可以在门口免费停车。总体来说不错，可以打五星。\"\n",
            "gold: 3\n",
            "pretict: 3\n",
            "**********************************************\n",
            "\"说真的，这家羊肉汤的味道是相当的巴适，菜品也丰富，烤的羊肉串也正宗，但是就是服务质量还跟不上，我们最先在美团团的券，但是他家说不能消费，但是确实是他家的券啊，我就叫他们先上菜，我从新在大众点评上团，由于网速太低，紧到没购买起，他们就不上菜，后来我跟他们理论，在我团的券经过他们前台验证后，才迟迟端上来。我只能说是做生意太死板了，服务质量太差了，但是一是一二是二，羊肉汤是相当的好吃，分量也足，火爆羊肚也炒的很嫩。粉蒸羊肉也很好吃，所以希望他们改变一下服务质量，回头客还是相当多的。\"\n",
            "gold: 3\n",
            "pretict: 3\n",
            "**********************************************\n",
            "\"以前一直不吃生鱼片，一次霸王餐开拓了我有一个美食领悟，哦吼吼。常吃的小伙伴说争鲜很不错，价格也实惠，终于在怂恿下来啦。饭点的时候人很多，但是大家还都等，可见人气。另外还有单独来吃的，感觉也挺合适。\n",
            "种类很多，生鱼片、寿司、甜点都能看到，而且供货很及时。生鱼片可以和面前的店员直接说，单点就行，很新鲜，并且肉也比较厚实。三文鱼寿司的话分两个一盘的，还有一个一盘的，取的部位不同口号也不一样。芥末章鱼是我的爱，去哪儿都来一盘，他家的也不错。再着重推荐油豆腐，特别棒，我们整整来了两份。\n",
            "店员都很认真的做事，有什么需要的可以说，会给你上。第一次吃回转寿司，才发现原来饭都是机器做好的，被小伙伴狠狠地鄙视了，哈哈，不过我很爱啊，自己来逛街的时候可以来吃了，就是怕人多呀，吼吼。\"\n",
            "gold: 3\n",
            "pretict: 3\n",
            "**********************************************\n",
            "\"原本想打包带回酒店吃，不过等着等着，想想还是堂吃吧。由于正好饭点，吃的人还是蛮多的，所以上菜速度不敢恭维。有个冷菜，五香牛肉，等我们吃好了还没有上来。去买单，要求退这个菜，老板娘又说在做了，我问她，不是冷菜嘛，她说对的，但之前没有了，所以现做的，现在已经在腌制了。册那，你没有不会说嘛，让我白等那么久！！拿到之后，一看，才一点，还要28，坑人！老公本来还要了一扎生啤，吃完饭也没上来，也退了，老板娘本来还不情不愿，我说饭都吃好了，酒不要了，一会儿还要开车。她么解释说倒了半杯在消泡，我说不要了。她只能说，那就不算了。总体感觉一般吧\"\n",
            "gold: 0\n",
            "pretict: 0\n",
            "**********************************************\n",
            "\"  坐直升电梯到5楼，出电梯就看见“泰粥道”了。主打精品川菜、广式小吃。环境也不错，比较有情调，里面没有大的桌子，拼桌才能坐8个人。大部分是2-4人座，还有特色的秋千座位！\n",
            "  菜品方面：\n",
            "  先说推荐菜品\n",
            " #招牌萝卜皮# 16一份，作为开胃菜是成功的，造型别致，味道酸爽。\n",
            " #宫廷榴莲酥# 20一份。虽然只有3个，但是我觉得这个广式小吃必点。三角形的外形，很特别。外壳金黄，像千层酥的感觉，很酥很脆。下面还有白芝麻。当你夹的时候千万要小心，稍微用劲就夹断了，流出还冒着热气的榴莲膏。细细品尝还有奶香味。喜欢吃榴莲味的不要错过。\n",
            " #极品虾饺皇# 18一份。\n",
            " #核桃酥# 18一份。\n",
            " 精品川菜方面：\n",
            "  #大邑肥肠血旺# 26一份。大邑血旺要说那家最好还是新场古镇里面的最好吃，那个味道简直不摆了。这里的只能说可以吃。肥肠太耙，血旺还将就。\n",
            "  #麻辣土鸡# 32一份。味道中规中矩，无特色。\n",
            " #石盘黄焖鸡# 38一份。分量没有好多，鸡肉太少，配菜太多，不小心就夹到大坨的生姜，而且生姜数量还有点多。看来现在生姜比鸡肉还便宜了。\n",
            "  #鲜椒去骨兔# 32一份。这个兔子肉不错哦。虽然写的鲜椒，但是不辣，口味是酸辣型的。兔子肉嫩，配菜有酸萝卜，野山椒等。我比较喜欢这种。\n",
            "  #野菜花炒鱼肚# 32一份。端上来我还以为是兔肚，对鱼肚不感冒，没怎么吃。菜品精致。\n",
            "  粥品：\n",
            "  总共上了4种粥，分别是：时蔬粥、海鲜粥、皮蛋瘦肉粥和桂花粥。每样都吃了点，我要求不高，觉得都还可以哈。\n",
            "  总结：推荐就是小吃，特别是榴莲酥。\n",
            "\"\n",
            "gold: 2\n",
            "pretict: 2\n",
            "**********************************************\n",
            "\"提早定了位子 不用等位 看到门口好多人 我们大摇大摆走进去的感觉真好 我好邪恶\n",
            "牛杂锅里面有好多肉啊 在肉肉还没上来的时候我们吃了好多锅里的肉 一直到最后锅里点的肉肉都吃光了 牛杂还有 真的好多哦\n",
            "嫩肉第一上的 真好吃啊 烫几下就变色了 好嫩\n",
            "肥拼最好吃的  有点油的的最好吃了 好嫩呀\n",
            "牛舌不是新鲜的那种 不过也挺嫩的 \n",
            "\n",
            "3楼右转有厕所 楼梯旁边都有调料台 \n",
            "服务员还是挺热情的  加汤点菜什么都老热情的 \n",
            "好吧 我明白为撒会有噶多人排队了\"\n",
            "gold: 3\n",
            "pretict: 3\n",
            "**********************************************\n",
            "\"铜川路水产批发市场，听说过，一直没有来过，这次小伙伴们说来这里吃海鲜了，我也见识了多种海洋生物，第一次来这边，不了解情况，好长的街，这么多家店，全部都是卖海鲜的，价格一路问过去，忽高忽地，问完价格准备走了，还没开始还价，他们会自己说便宜点给你，一便宜就是减掉二三十块一斤，反正这里面绝对有水分的，买的永远不如卖的，就算这个他给你便宜了，其他的肯定就宰你了，还有重量上，那是绝对的缺斤短两，诶，这样算下来其实也不便宜，还不如周边的平价小海鲜呢。就是来这吃个新鲜，被宰也就这么难办一次了。\"\n",
            "gold: 0\n",
            "pretict: 0\n",
            "**********************************************\n"
          ],
          "name": "stdout"
        }
      ]
    }
  ]
}