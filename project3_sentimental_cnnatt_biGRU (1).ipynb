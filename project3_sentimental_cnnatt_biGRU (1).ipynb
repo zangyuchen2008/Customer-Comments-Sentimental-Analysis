{
  "nbformat": 4,
  "nbformat_minor": 0,
  "metadata": {
    "kernelspec": {
      "name": "python3",
      "display_name": "Python 3"
    },
    "colab": {
      "name": "project3_sentimental_cnnatt_biGRU.ipynb",
      "provenance": [],
      "collapsed_sections": [
        "uxJITf0TICR7"
      ]
    },
    "accelerator": "GPU"
  },
  "cells": [
    {
      "cell_type": "code",
      "metadata": {
        "id": "hb_FcghBNYaV",
        "colab_type": "code",
        "outputId": "f9598cb2-1bd4-413f-8bc3-d6dd8ac89da6",
        "colab": {
          "base_uri": "https://localhost:8080/",
          "height": 125
        }
      },
      "source": [
        "from google.colab import drive\n",
        "drive.mount('/content/drive/')"
      ],
      "execution_count": 7,
      "outputs": [
        {
          "output_type": "stream",
          "text": [
            "Go to this URL in a browser: https://accounts.google.com/o/oauth2/auth?client_id=947318989803-6bn6qk8qdgf4n4g3pfee6491hc0brc4i.apps.googleusercontent.com&redirect_uri=urn%3aietf%3awg%3aoauth%3a2.0%3aoob&response_type=code&scope=email%20https%3a%2f%2fwww.googleapis.com%2fauth%2fdocs.test%20https%3a%2f%2fwww.googleapis.com%2fauth%2fdrive%20https%3a%2f%2fwww.googleapis.com%2fauth%2fdrive.photos.readonly%20https%3a%2f%2fwww.googleapis.com%2fauth%2fpeopleapi.readonly\n",
            "\n",
            "Enter your authorization code:\n",
            "··········\n",
            "Mounted at /content/drive/\n"
          ],
          "name": "stdout"
        }
      ]
    },
    {
      "cell_type": "code",
      "metadata": {
        "id": "4tAFMkWeXWbl",
        "colab_type": "code",
        "colab": {}
      },
      "source": [
        "# !git clone https://github.com/zangyuchen2008/StopWords '/content/drive/My Drive/app/Stopwords'"
      ],
      "execution_count": 0,
      "outputs": []
    },
    {
      "cell_type": "code",
      "metadata": {
        "id": "mq_QCztFXfv_",
        "colab_type": "code",
        "outputId": "db93571c-6ee8-49e1-d308-53755bd4c7e5",
        "colab": {
          "base_uri": "https://localhost:8080/",
          "height": 52
        }
      },
      "source": [
        "!ls '/content/drive/My Drive/app/'"
      ],
      "execution_count": 9,
      "outputs": [
        {
          "output_type": "stream",
          "text": [
            "GPUtest.ipynb\t      mnist_cnn.py\t    Stopwords\n",
            "keras-mnist-tutorial  senti_classification  Titanic.csv\n"
          ],
          "name": "stdout"
        }
      ]
    },
    {
      "cell_type": "code",
      "metadata": {
        "id": "6Im6ZM_SICRY",
        "colab_type": "code",
        "colab": {}
      },
      "source": [
        "from sklearn.preprocessing import LabelBinarizer\n",
        "import numpy as np \n",
        "import pandas as pd\n",
        "import os\n",
        "import pickle\n",
        "import jieba\n",
        "import re "
      ],
      "execution_count": 0,
      "outputs": []
    },
    {
      "cell_type": "code",
      "metadata": {
        "id": "ptMVNeR1ICRc",
        "colab_type": "code",
        "colab": {}
      },
      "source": [
        "# path\n",
        "father_path= r'/content/drive/My Drive/app/senti_classification'\n",
        "fasttext_w2v_path = os.path.join(father_path, 'w2v_model','cc.zh.300.vec')\n",
        "trainset_path = os.path.join(father_path, 'data','train','sentiment_analysis_trainingset.csv')\n",
        "validationset_path = os.path.join(father_path, 'data','validation','sentiment_analysis_validationset.csv')\n",
        "testset_path = os.path.join(father_path, 'data','test','sentiment_analysis_testa.csv')\n",
        "stop_word_path = os.path.join(father_path,'data','stop_words.plk')"
      ],
      "execution_count": 0,
      "outputs": []
    },
    {
      "cell_type": "code",
      "metadata": {
        "id": "irAl_aXMICRf",
        "colab_type": "code",
        "colab": {}
      },
      "source": [
        "train = pd.read_csv(trainset_path,sep=',',encoding='utf8')\n",
        "validation = pd.read_csv(validationset_path,sep=',',encoding='utf8')\n",
        "test = pd.read_csv(testset_path,sep=',',encoding='utf8')"
      ],
      "execution_count": 0,
      "outputs": []
    },
    {
      "cell_type": "markdown",
      "metadata": {
        "id": "2JuAyFP3ICRi",
        "colab_type": "text"
      },
      "source": [
        "## Lable encode"
      ]
    },
    {
      "cell_type": "code",
      "metadata": {
        "id": "dMg73jabICRj",
        "colab_type": "code",
        "colab": {}
      },
      "source": [
        "bi_encode = LabelBinarizer()\n",
        "encodes =[]\n",
        "target_train = train[['dish_taste']]\n",
        "for index,v in enumerate(target_train.values.T):\n",
        "    encodes.append(bi_encode.fit_transform(v))\n",
        "encodes = np.array(encodes)\n",
        "y_tra = np.concatenate(encodes,axis=1)\n",
        "\n",
        "target_val = validation[['dish_taste']]\n",
        "encodes =[]\n",
        "for index,v in enumerate(target_val.values.T):\n",
        "    encodes.append(bi_encode.fit_transform(v))\n",
        "encodes = np.array(encodes)\n",
        "y_val = np.concatenate(encodes,axis=1)"
      ],
      "execution_count": 0,
      "outputs": []
    },
    {
      "cell_type": "markdown",
      "metadata": {
        "id": "uH6C_J2qICRm",
        "colab_type": "text"
      },
      "source": [
        "## tokenlization"
      ]
    },
    {
      "cell_type": "code",
      "metadata": {
        "id": "kuQPBeMWSynw",
        "colab_type": "code",
        "outputId": "8b5a5cac-b240-49eb-d17f-3771b9c12292",
        "colab": {
          "base_uri": "https://localhost:8080/",
          "height": 403
        }
      },
      "source": [
        "list(train)"
      ],
      "execution_count": 14,
      "outputs": [
        {
          "output_type": "execute_result",
          "data": {
            "text/plain": [
              "['id',\n",
              " 'content',\n",
              " 'location_traffic_convenience',\n",
              " 'location_distance_from_business_district',\n",
              " 'location_easy_to_find',\n",
              " 'service_wait_time',\n",
              " 'service_waiters_attitude',\n",
              " 'service_parking_convenience',\n",
              " 'service_serving_speed',\n",
              " 'price_level',\n",
              " 'price_cost_effective',\n",
              " 'price_discount',\n",
              " 'environment_decoration',\n",
              " 'environment_noise',\n",
              " 'environment_space',\n",
              " 'environment_cleaness',\n",
              " 'dish_portion',\n",
              " 'dish_taste',\n",
              " 'dish_look',\n",
              " 'dish_recommendation',\n",
              " 'others_overall_experience',\n",
              " 'others_willing_to_consume_again']"
            ]
          },
          "metadata": {
            "tags": []
          },
          "execution_count": 14
        }
      ]
    },
    {
      "cell_type": "code",
      "metadata": {
        "id": "rBN17J5kVdGW",
        "colab_type": "code",
        "outputId": "34308668-d6c3-4286-9534-895dff4d7bca",
        "colab": {
          "base_uri": "https://localhost:8080/",
          "height": 782
        }
      },
      "source": [
        "import matplotlib.pyplot as plt\n",
        "train.iloc[:,2:].hist(bins=[-2.5,-1.5,-0.5,0.5,1.5], figsize=(20,15))\n",
        "plt.show()"
      ],
      "execution_count": 15,
      "outputs": [
        {
          "output_type": "display_data",
          "data": {
            "image/png": "[encoded data removed]",
            "text/plain": [
              "<Figure size 1440x1080 with 20 Axes>"
            ]
          },
          "metadata": {
            "tags": [],
            "needs_background": "light"
          }
        }
      ]
    },
    {
      "cell_type": "code",
      "metadata": {
        "id": "OmPGjA7QICRm",
        "colab_type": "code",
        "colab": {}
      },
      "source": [
        "def cut(sen):\n",
        "    a2=jieba.cut(sen)\n",
        "    pattern = re.compile('\\w+')\n",
        "    a2=list(filter(pattern.match,a2))\n",
        "    return a2"
      ],
      "execution_count": 0,
      "outputs": []
    },
    {
      "cell_type": "code",
      "metadata": {
        "id": "S60Ip_eGICRp",
        "colab_type": "code",
        "colab": {}
      },
      "source": [
        "# x_tra = train['content'].apply(cut)\n",
        "# x_val = validation['content'].apply(cut)\n",
        "# x_te = test['content'].apply(cut)"
      ],
      "execution_count": 0,
      "outputs": []
    },
    {
      "cell_type": "code",
      "metadata": {
        "id": "ORLCPHxvNE5h",
        "colab_type": "code",
        "colab": {}
      },
      "source": [
        "# pickle.dump([x_tra,x_val,x_te],open(os.path.join(father_path,'cut_tokens.pkl'),'wb'))"
      ],
      "execution_count": 0,
      "outputs": []
    },
    {
      "cell_type": "code",
      "metadata": {
        "id": "kEhDqcZGNkgt",
        "colab_type": "code",
        "colab": {}
      },
      "source": [
        "# x_tra,x_val,x_te = pickle.load(open(os.path.join(father_path,'cut_tokens.pkl'),'rb'))"
      ],
      "execution_count": 0,
      "outputs": []
    },
    {
      "cell_type": "code",
      "metadata": {
        "id": "29ciQq1ZXqGg",
        "colab_type": "code",
        "colab": {}
      },
      "source": [
        "# stopwords=pd.read_csv('/content/drive/My Drive/app/Stopwords/stopwords/中文停用词库.txt',encoding='gb2312')\n",
        "# stopwords= stopwords.values.reshape(745,)"
      ],
      "execution_count": 0,
      "outputs": []
    },
    {
      "cell_type": "code",
      "metadata": {
        "id": "FkmIue8MhEN4",
        "colab_type": "code",
        "colab": {}
      },
      "source": [
        "# x_tra = x_tra.apply(lambda x: [w for w in x if w not in stopwords]) \n",
        "# x_val = x_val.apply(lambda x: [w for w in x if w not in stopwords]) \n",
        "# x_te = x_te.apply(lambda x: [w for w in x if w not in stopwords])"
      ],
      "execution_count": 0,
      "outputs": []
    },
    {
      "cell_type": "code",
      "metadata": {
        "id": "-iL4H25VpZ38",
        "colab_type": "code",
        "colab": {}
      },
      "source": [
        "# pickle.dump([x_tra,x_val,x_te],open(os.path.join(father_path,'cut_tokens_wo_stopwords.pkl'),'wb'))"
      ],
      "execution_count": 0,
      "outputs": []
    },
    {
      "cell_type": "code",
      "metadata": {
        "id": "x21l4MobqLdg",
        "colab_type": "code",
        "colab": {}
      },
      "source": [
        "x_tra,x_val,x_te = pickle.load(open(os.path.join(father_path,'cut_tokens_wo_stopwords.pkl'),'rb'))"
      ],
      "execution_count": 0,
      "outputs": []
    },
    {
      "cell_type": "markdown",
      "metadata": {
        "id": "yJ2Idft2ICRt",
        "colab_type": "text"
      },
      "source": [
        "## sentense embedding"
      ]
    },
    {
      "cell_type": "code",
      "metadata": {
        "id": "2xK1rWO6ICRu",
        "colab_type": "code",
        "outputId": "60c97e3a-dfee-4365-9290-f511f4552030",
        "colab": {
          "base_uri": "https://localhost:8080/",
          "height": 34
        }
      },
      "source": [
        "from sklearn.model_selection import train_test_split\n",
        "from sklearn.metrics import roc_auc_score\n",
        "from keras.models import Model\n",
        "from keras.layers import Input, Dense, Embedding, SpatialDropout1D, concatenate,Dropout\n",
        "from keras.layers import GRU, Bidirectional, GlobalAveragePooling1D, GlobalMaxPooling1D\n",
        "from keras.preprocessing import text, sequence\n",
        "from keras.callbacks import Callback\n",
        "import warnings\n",
        "warnings.filterwarnings('ignore')\n",
        "import os\n",
        "os.environ['OMP_NUM_THREADS'] = '4'\n",
        "np.random.seed(42)"
      ],
      "execution_count": 24,
      "outputs": [
        {
          "output_type": "stream",
          "text": [
            "Using TensorFlow backend.\n"
          ],
          "name": "stderr"
        }
      ]
    },
    {
      "cell_type": "markdown",
      "metadata": {
        "id": "9tU1c3qkICRx",
        "colab_type": "text"
      },
      "source": [
        "#### create word index vocabulary"
      ]
    },
    {
      "cell_type": "code",
      "metadata": {
        "id": "1OG1IS5QICRx",
        "colab_type": "code",
        "colab": {}
      },
      "source": [
        "max_features = 30000\n",
        "maxlen = 400\n",
        "embed_size = 300\n",
        "tokenizer = text.Tokenizer(num_words=max_features)#create a tokenizer class with max token limit\n",
        "tokenizer.fit_on_texts(list(x_tra)+list(x_val)+list(x_te)) # texts: can be a list of list of strings."
      ],
      "execution_count": 0,
      "outputs": []
    },
    {
      "cell_type": "markdown",
      "metadata": {
        "id": "mXZYtVX0ICR0",
        "colab_type": "text"
      },
      "source": [
        "#### tranform sentense into index integers"
      ]
    },
    {
      "cell_type": "code",
      "metadata": {
        "id": "QRdIBhk1ICR1",
        "colab_type": "code",
        "colab": {}
      },
      "source": [
        "X_train = tokenizer.texts_to_sequences(x_tra)# create index(comming from vocabulary) based integer list to represent sequence\n",
        "X_valid = tokenizer.texts_to_sequences(x_val)\n",
        "X_test = tokenizer.texts_to_sequences(x_te)"
      ],
      "execution_count": 0,
      "outputs": []
    },
    {
      "cell_type": "markdown",
      "metadata": {
        "id": "bXhjYFCXICR3",
        "colab_type": "text"
      },
      "source": [
        "#### padding to make fixed input length"
      ]
    },
    {
      "cell_type": "code",
      "metadata": {
        "id": "7zqRj4YEICR4",
        "colab_type": "code",
        "colab": {}
      },
      "source": [
        "x_train = sequence.pad_sequences(X_train, maxlen=maxlen) # padding zeros to make 100 length encoded seq list, the default padding is pre padding\n",
        "x_valid = sequence.pad_sequences(X_valid, maxlen=maxlen)\n",
        "x_test = sequence.pad_sequences(X_test, maxlen=maxlen)"
      ],
      "execution_count": 0,
      "outputs": []
    },
    {
      "cell_type": "markdown",
      "metadata": {
        "id": "uxJITf0TICR7",
        "colab_type": "text"
      },
      "source": [
        "#### create embedding"
      ]
    },
    {
      "cell_type": "code",
      "metadata": {
        "id": "DLL_KpueICR7",
        "colab_type": "code",
        "colab": {}
      },
      "source": [
        "# from gensim.models import KeyedVectors"
      ],
      "execution_count": 0,
      "outputs": []
    },
    {
      "cell_type": "code",
      "metadata": {
        "id": "RlnzzBE3ICR-",
        "colab_type": "code",
        "colab": {}
      },
      "source": [
        "# w2v = pickle.load(open(os.path.join(father_path,'fasttext.plk'),'rb'))"
      ],
      "execution_count": 0,
      "outputs": []
    },
    {
      "cell_type": "code",
      "metadata": {
        "id": "b19rA8QWICSF",
        "colab_type": "code",
        "colab": {}
      },
      "source": [
        "# word_index = tokenizer.word_index\n",
        "# nb_words = min(max_features, len(word_index))\n",
        "# embedding_matrix = np.zeros((nb_words, embed_size))\n",
        "# for word, i in word_index.items():\n",
        "#     if i >= max_features: continue\n",
        "# #     embedding_vector = w2v[word]\n",
        "#     if word in w2v: embedding_matrix[i] = w2v[word]"
      ],
      "execution_count": 0,
      "outputs": []
    },
    {
      "cell_type": "code",
      "metadata": {
        "id": "wgYaHuMDICSH",
        "colab_type": "code",
        "colab": {}
      },
      "source": [
        "# pickle.dump(embedding_matrix,open('embedding_matrix.plk','wb'))"
      ],
      "execution_count": 0,
      "outputs": []
    },
    {
      "cell_type": "code",
      "metadata": {
        "id": "kHiCLehBOO2p",
        "colab_type": "code",
        "colab": {}
      },
      "source": [
        "embedding_matrix= pickle.load(open(os.path.join(father_path,'embedding_matrix.plk'),'rb'))"
      ],
      "execution_count": 0,
      "outputs": []
    },
    {
      "cell_type": "markdown",
      "metadata": {
        "id": "7Kr-i_K2ICSK",
        "colab_type": "text"
      },
      "source": [
        "## create model"
      ]
    },
    {
      "cell_type": "markdown",
      "metadata": {
        "id": "a_OBefrB3bE8",
        "colab_type": "text"
      },
      "source": [
        "GRU model"
      ]
    },
    {
      "cell_type": "code",
      "metadata": {
        "id": "u_0H9A3XICSK",
        "colab_type": "code",
        "colab": {}
      },
      "source": [
        "from sklearn.metrics import precision_score"
      ],
      "execution_count": 0,
      "outputs": []
    },
    {
      "cell_type": "code",
      "metadata": {
        "id": "LrKjej30ICSN",
        "colab_type": "code",
        "colab": {}
      },
      "source": [
        "class GRUEvaluation(Callback):\n",
        "    def __init__(self, validation_data=(), interval=1):\n",
        "        super(Callback, self).__init__()\n",
        "\n",
        "        self.interval = interval\n",
        "        self.X_val, self.y_val = validation_data\n",
        "\n",
        "    def on_epoch_end(self, epoch, logs={}):\n",
        "        if epoch % self.interval == 0:\n",
        "            y_pred = self.model.predict(self.X_val, verbose=0)\n",
        "            y_pred = y_pred>0.5\n",
        "            pre_score = precision_score(self.y_val, y_pred,average='macro') #,average='weighted'\n",
        "            print(\"\\n ROC-AUC - epoch: %d - pre_score: %.6f \\n\" % (epoch+1, pre_score))"
      ],
      "execution_count": 0,
      "outputs": []
    },
    {
      "cell_type": "code",
      "metadata": {
        "id": "7XMyNTMuICSQ",
        "colab_type": "code",
        "colab": {}
      },
      "source": [
        "def get_model():\n",
        "    inp = Input(shape=(maxlen, ))\n",
        "    x = Embedding(max_features, embed_size, weights=[embedding_matrix])(inp)\n",
        "    x = SpatialDropout1D(0.2)(x)\n",
        "    x = Bidirectional(GRU(128, return_sequences=True))(x) #bidirectional has two inputs if not specified, see keras doc ,units: Positive integer, dimensionality of the output space.\n",
        "    x = Bidirectional(GRU(64, return_sequences=True))(x) #bidirectional has two inputs if not specified, see keras doc ,units: Positive integer, dimensionality of the output space.\n",
        "    x = Dropout(0.2)(x)\n",
        "    avg_pool = GlobalAveragePooling1D()(x) # average over features along time steps direction, l\n",
        "    max_pool = GlobalMaxPooling1D()(x)\n",
        "    conc = concatenate([avg_pool, max_pool]) # concatenate along axis of avg or max_pool in the list by default, input must be list of tensors\n",
        "    outp = Dense(4, activation=\"sigmoid\")(conc)\n",
        "    \n",
        "    model = Model(inputs=inp, outputs=outp)\n",
        "    model.compile(loss='categorical_crossentropy',\n",
        "                  optimizer='adam',\n",
        "                  metrics=['accuracy'])\n",
        "    # model.compile(loss='binary_crossentropy',\n",
        "    #               optimizer='adam',\n",
        "    #               metrics=['accuracy'])\n",
        "    return model"
      ],
      "execution_count": 0,
      "outputs": []
    },
    {
      "cell_type": "markdown",
      "metadata": {
        "id": "piqtoJy23WsO",
        "colab_type": "text"
      },
      "source": [
        "cnn plus attention model"
      ]
    },
    {
      "cell_type": "code",
      "metadata": {
        "id": "eYQpyL7dwomw",
        "colab_type": "code",
        "colab": {}
      },
      "source": [
        "import tensorflow as tf \n",
        "import os"
      ],
      "execution_count": 0,
      "outputs": []
    },
    {
      "cell_type": "code",
      "metadata": {
        "id": "rzdNxuRAH3oB",
        "colab_type": "code",
        "colab": {
          "base_uri": "https://localhost:8080/",
          "height": 34
        },
        "outputId": "a628350a-a8d5-4d11-91f6-f3cd29aff9bf"
      },
      "source": [
        "checkpoint_path = \"training_2/cp-{epoch:04d}.ckpt\"\n",
        "checkpoint_dir = os.path.dirname(checkpoint_path)\n",
        "\n",
        "# Create a callback that saves the model's weights every 5 epochs\n",
        "check_points = tf.keras.callbacks.ModelCheckpoint(\n",
        "    filepath=checkpoint_path, \n",
        "    verbose=1, \n",
        "    save_weights_only=True,\n",
        "    period=1)"
      ],
      "execution_count": 37,
      "outputs": [
        {
          "output_type": "stream",
          "text": [
            "WARNING:tensorflow:`period` argument is deprecated. Please use `save_freq` to specify the frequency in number of batches seen.\n"
          ],
          "name": "stdout"
        }
      ]
    },
    {
      "cell_type": "code",
      "metadata": {
        "id": "nOvpZCr6ltmZ",
        "colab_type": "code",
        "colab": {}
      },
      "source": [
        "class ATTEvaluation(tf.keras.callbacks.Callback):\n",
        "    def __init__(self, validation_data=(), interval=1):\n",
        "        super(tf.keras.callbacks.Callback, self).__init__()\n",
        "\n",
        "        self.interval = interval\n",
        "        self.X_val, self.y_val = validation_data\n",
        "\n",
        "    def on_epoch_end(self, epoch, logs={}):\n",
        "        if epoch % self.interval == 0:\n",
        "            y_pred = self.model.predict(self.X_val, verbose=0)\n",
        "            y_pred = y_pred > 0.5\n",
        "            pre_score = precision_score(self.y_val, y_pred,average='macro') #,average='weighted'\n",
        "            print(\"\\n ROC-AUC - epoch: %d - pre_score: %.6f \\n\" % (epoch+1, pre_score))"
      ],
      "execution_count": 0,
      "outputs": []
    },
    {
      "cell_type": "code",
      "metadata": {
        "id": "hl-F84kvwj0q",
        "colab_type": "code",
        "colab": {}
      },
      "source": [
        "def get_cnn_attention_model():\n",
        "  # Variable-length int sequences.\n",
        "  query_input = tf.keras.Input(shape=(maxlen,), dtype='int32')\n",
        "  # value_input = tf.keras.Input(shape=(None,), dtype='int32')\n",
        "\n",
        "  # Embedding lookup.\n",
        "  token_embedding = tf.keras.layers.Embedding(max_features, embed_size)\n",
        "  # Query embeddings of shape [batch_size, Tq, dimension].\n",
        "  query_embeddings = token_embedding(query_input)\n",
        "  # Value embeddings of shape [batch_size, Tv, dimension].\n",
        "  value_embeddings = token_embedding(query_input)\n",
        "\n",
        "  # CNN layer.\n",
        "  cnn_layer = tf.keras.layers.Conv1D(\n",
        "      filters=100,\n",
        "      kernel_size=4,\n",
        "      # Use 'same' padding so outputs have the same shape as inputs.\n",
        "      padding='same',kernel_regularizer=tf.keras.regularizers.l2(0.01))\n",
        "  # Query encoding of shape [batch_size, Tq, filters].\n",
        "  query_seq_encoding = cnn_layer(query_embeddings)\n",
        "  # Value encoding of shape [batch_size, Tv, filters].\n",
        "  value_seq_encoding = cnn_layer(value_embeddings)\n",
        "\n",
        "  # Query-value attention of shape [batch_size, Tq, filters].\n",
        "  query_value_attention_seq = tf.keras.layers.Attention()(\n",
        "      [query_seq_encoding, value_seq_encoding])\n",
        "\n",
        "  # Reduce over the sequence axis to produce encodings of shape\n",
        "  # [batch_size, filters].\n",
        "  query_encoding = tf.keras.layers.GlobalAveragePooling1D()(\n",
        "      query_seq_encoding)\n",
        "  query_value_attention = tf.keras.layers.GlobalAveragePooling1D()(\n",
        "      query_value_attention_seq)\n",
        "\n",
        "  # Concatenate query and document encodings to produce a DNN input layer.\n",
        "  input_layer = tf.keras.layers.Concatenate()(\n",
        "      [query_encoding, query_value_attention])\n",
        "  output_layer = tf.keras.layers.Dense(4,activation=\"sigmoid\")(input_layer)\n",
        "  model = tf.keras.Model(inputs=query_input,outputs=output_layer)\n",
        "  model.compile(loss='categorical_crossentropy',\n",
        "                  optimizer='adam',\n",
        "                  metrics=['accuracy'])\n",
        "  return model"
      ],
      "execution_count": 0,
      "outputs": []
    },
    {
      "cell_type": "markdown",
      "metadata": {
        "id": "oPIq52PQICSS",
        "colab_type": "text"
      },
      "source": [
        "## Train"
      ]
    },
    {
      "cell_type": "code",
      "metadata": {
        "id": "MyYpNgDQzqWx",
        "colab_type": "code",
        "colab": {
          "base_uri": "https://localhost:8080/",
          "height": 509
        },
        "outputId": "9291d20b-d5c1-4771-dbe3-72cb6fada42a"
      },
      "source": [
        "at_model= get_cnn_attention_model()\n",
        "at_model.summary()"
      ],
      "execution_count": 42,
      "outputs": [
        {
          "output_type": "stream",
          "text": [
            "Model: \"model\"\n",
            "__________________________________________________________________________________________________\n",
            "Layer (type)                    Output Shape         Param #     Connected to                     \n",
            "==================================================================================================\n",
            "input_1 (InputLayer)            [(None, 400)]        0                                            \n",
            "__________________________________________________________________________________________________\n",
            "embedding (Embedding)           (None, 400, 300)     9000000     input_1[0][0]                    \n",
            "                                                                 input_1[0][0]                    \n",
            "__________________________________________________________________________________________________\n",
            "conv1d (Conv1D)                 (None, 400, 100)     120100      embedding[0][0]                  \n",
            "                                                                 embedding[1][0]                  \n",
            "__________________________________________________________________________________________________\n",
            "attention (Attention)           (None, 400, 100)     0           conv1d[0][0]                     \n",
            "                                                                 conv1d[1][0]                     \n",
            "__________________________________________________________________________________________________\n",
            "global_average_pooling1d (Globa (None, 100)          0           conv1d[0][0]                     \n",
            "__________________________________________________________________________________________________\n",
            "global_average_pooling1d_1 (Glo (None, 100)          0           attention[0][0]                  \n",
            "__________________________________________________________________________________________________\n",
            "concatenate (Concatenate)       (None, 200)          0           global_average_pooling1d[0][0]   \n",
            "                                                                 global_average_pooling1d_1[0][0] \n",
            "__________________________________________________________________________________________________\n",
            "dense (Dense)                   (None, 4)            804         concatenate[0][0]                \n",
            "==================================================================================================\n",
            "Total params: 9,120,904\n",
            "Trainable params: 9,120,904\n",
            "Non-trainable params: 0\n",
            "__________________________________________________________________________________________________\n"
          ],
          "name": "stdout"
        }
      ]
    },
    {
      "cell_type": "code",
      "metadata": {
        "id": "1u-cxwY5ICSU",
        "colab_type": "code",
        "colab": {
          "base_uri": "https://localhost:8080/",
          "height": 386
        },
        "outputId": "42838d22-d58b-4067-dc5f-8e19c3c6934d"
      },
      "source": [
        "batch_size = 128\n",
        "epochs = 3\n",
        "test_index =1000\n",
        "callback = ATTEvaluation(validation_data=(x_valid, y_val), interval=1)\n",
        "earlyStopping = tf.keras.callbacks.EarlyStopping(monitor='loss', patience=1)\n",
        "hist = at_model.fit(x_train[:test_index,:], y_tra[:test_index,:], batch_size=batch_size, epochs=epochs, validation_data=(x_valid[:test_index,:], y_val[:test_index,:]),callbacks=[callback,earlyStopping,check_points], verbose=2)"
      ],
      "execution_count": 43,
      "outputs": [
        {
          "output_type": "stream",
          "text": [
            "Epoch 1/3\n",
            "\n",
            " ROC-AUC - epoch: 1 - pre_score: 0.227733 \n",
            "\n",
            "\n",
            "Epoch 00001: saving model to training_2/cp-0001.ckpt\n",
            "8/8 - 9s - loss: 2.5884 - accuracy: 0.4630 - val_loss: 2.2209 - val_accuracy: 0.5100\n",
            "Epoch 2/3\n",
            "\n",
            " ROC-AUC - epoch: 2 - pre_score: 0.227733 \n",
            "\n",
            "\n",
            "Epoch 00002: saving model to training_2/cp-0002.ckpt\n",
            "8/8 - 8s - loss: 2.0041 - accuracy: 0.5200 - val_loss: 1.7615 - val_accuracy: 0.5100\n",
            "Epoch 3/3\n",
            "\n",
            " ROC-AUC - epoch: 3 - pre_score: 0.227733 \n",
            "\n",
            "\n",
            "Epoch 00003: saving model to training_2/cp-0003.ckpt\n",
            "8/8 - 8s - loss: 1.6361 - accuracy: 0.5200 - val_loss: 1.4808 - val_accuracy: 0.5100\n"
          ],
          "name": "stdout"
        }
      ]
    },
    {
      "cell_type": "code",
      "metadata": {
        "id": "oXUo8ndZICSS",
        "colab_type": "code",
        "colab": {}
      },
      "source": [
        "model=get_model()\n",
        "model.summary()"
      ],
      "execution_count": 0,
      "outputs": []
    },
    {
      "cell_type": "code",
      "metadata": {
        "id": "F9gGV6WLTtPz",
        "colab_type": "code",
        "outputId": "2cce1968-4b6b-4d7d-eb31-afebe125e660",
        "colab": {
          "base_uri": "https://localhost:8080/",
          "height": 122
        }
      },
      "source": [
        "batch_size = 64\n",
        "epochs = 1\n",
        "callback = GRUEvaluation(validation_data=(x_valid, y_val), interval=1)\n",
        "\n",
        "hist = model.fit(x_train[:1000,:], y_tra[:1000,:], batch_size=batch_size, epochs=epochs, validation_data=(x_valid[:1000,:], y_val[:1000,:]),callbacks=[callback], verbose=2)"
      ],
      "execution_count": 83,
      "outputs": [
        {
          "output_type": "stream",
          "text": [
            "Train on 1000 samples, validate on 1000 samples\n",
            "Epoch 1/1\n",
            " - 51s - loss: 1.0915 - accuracy: 0.4690 - val_loss: 0.9987 - val_accuracy: 0.5100\n",
            "\n",
            " ROC-AUC - epoch: 1 - pre_score: 0.227733 \n",
            "\n"
          ],
          "name": "stdout"
        }
      ]
    },
    {
      "cell_type": "code",
      "metadata": {
        "id": "6bPN4xkHh_-F",
        "colab_type": "code",
        "outputId": "b3279213-8dda-4a18-de2b-1904b05944c5",
        "colab": {
          "base_uri": "https://localhost:8080/",
          "height": 1000
        }
      },
      "source": [
        "for index in range(33,1000):\n",
        "  if np.argmax(y_val[index])==1 and (np.argmax(y_val[index]) != np.argmax(at_model.predict(x_valid[index].reshape(1,400)))):\n",
        "    print(validation['content'][index])\n",
        "    print('gold:',np.argmax(y_val[index]))\n",
        "    print('pretict:',np.argmax(at_model.predict(x_valid[index].reshape(1,400))))\n",
        "    print('**********************************************')"
      ],
      "execution_count": 55,
      "outputs": [
        {
          "output_type": "stream",
          "text": [
            "\"       东塱农庄，顾名思义就系位于东塱，以前可算系穷乡僻壤，依家已经系交通方便，前有东沙医院，后有东新高速入口噶要地，车水马龙之地。途径噶巴士非常多，门口就有巴士站名曰东塱站，所以闻名而来一尝农家风味噶人非常多，周末饭市基本要等位，除非你系提早订位噶，或者早于11点前就坐，否则你就只有等等等。\n",
            "       总体环境非常乡土，也难怪，本来就系东塱村噶老人活动中心改建噶，基本上无装修，就系老人活动中心噶原貌，然后屋顶仲KEEP住大吊扇，门窗依然系80 90年代噶农村风格，大厅大概可以容纳40围，全满噶时候非常吵闹，如果追求安静噶就餐环境千其唔好黎。餐厅后面有一个小公园，入边有好多健身设施，带小朋友过黎可以随时出去玩，仲有村民系附近噶臭河涌垂钓，唔知D鱼系咪会卖翻比东塱农庄，呢点有小小存疑~！\n",
            "       出品其实并唔系太出色，我觉得不过不失而已，农家菜做到远远无番禺噶餐馆好，而烧鸡烧排骨也都远不及太和，只不过东塱农庄胜在靠近市区，可以话仲系市区范围内，所以呢个也都系距噶制胜之道。\n",
            "        蒜蓉粉丝蒸元贝：5蚊只，的确抵食，虽然细只，但系好新鲜，推荐~！\n",
            "        蒸水蟹：15蚊只，蟹偏小，不过都系胜在新鲜，推荐~！\n",
            "        炸大肠：我对内脏一般，男票话炸得非常好，脆仆仆，搭配泰式甜辣酱，好惹味，推荐~！\n",
            "        虾仁炒蛋：虾仁唔新鲜，呢点好致命，滑蛋炒得唔算老，不过虾仁已经扣晒分，唔推荐~！\n",
            "        老娘叉烧：超级超级超级差，三分一碟系叉烧，三分二系梅菜，呃秤，严重唔推荐~！\n",
            "        沙姜猪利：沙姜好多，洋葱好多，猪利又系10旧都唔够，呃秤，严重唔推荐~！\n",
            "        总体评价：价钱唔算贵，人均都系30 40 左右，但系菜式必须慎点，招牌噶可以点，其他都系三思啦。\"\n",
            "gold: 1\n",
            "pretict: 2\n",
            "**********************************************\n",
            "\"这家餐厅主要经营海鲜，主要的食物是贝壳，儿子吃的很开心，肉质很鲜嫩，进入餐厅服务员很热情的打招呼，一下就把我们吸引住了，团的是双人餐，服务员铺上了一次性餐纸，还每人一个一次性围兜，好可爱吧，海鲜超市是一桶的贝壳虾还有一个小点的鲍鱼，没有餐具有一次性手套戴着用手拿着吃，虾子很新鲜，贝壳处理的也能干净，还有两种调料可以蘸食，苏打饮料新鲜现做的，好喝又多加了一杯，加了份烤串，个人觉得不太好吃要的是微辣结果太辣我们两个人没吃几口就吃不下了，还是吃海鲜好点\"\n",
            "gold: 1\n",
            "pretict: 2\n",
            "**********************************************\n",
            "\"  在家门口小区新开的餐馆，这地方已经换了三家了，7月新开业的，进去后，客人非常多，服务员不太多，也没有领位的，我们自己找了个刚吃完的桌子坐下，后面在来的客人就开始等位了。服务员把桌子上的东西收拾干净，忙的都来不及铺桌布了，也没拿餐具，直接上菜谱，点了个特价的烤鸡，软炸蘑菇，水煮牛肉，老北京切肠，点完后发现每个桌子都在催菜，退菜。这是什么节奏啊？？厨师和服务员都去哪了？？？果不其然，我们等了半个小时一道菜都没上来，我们也加入到催菜大军中。\n",
            "   等到花都快谢了，终于第一道菜上来了，特价烤鸡10元一只，估计是厨师着急上菜，大火炸制而成，都快成焦鸡了。老北京切肠，比稻香村的肠差远了，咸死买盐的了。软炸蘑菇，感觉就是在吃面，一点味道都没有。最可气的就是水煮牛肉，这是我见过的最抠的厨师做的菜了，一大盆生菜垫底，上面微微飘着几块肉，是肉眼都能数出的肉，绝超不过10块，竟然还敢买36元，你怎么不去抢啊？？而且那肉根本嚼不动，一气之下结账走人，我看在坚持几个月换第四家餐馆吧！！！！\"\n",
            "gold: 1\n",
            "pretict: 2\n",
            "**********************************************\n",
            "\"今天去的时候人不算多，我们选择了2楼。然后点菜的也不太爱理。等到鸡公煲做好了之后端上来的那个人也不太爱理，耷拉着脸，不知道给谁看呢，而且指甲挺长的……再来说一下这个菜啊，今天给的肉简直了，都是鸡后背上的后，一个好的肉都没有，……一个都没有，一个都没有，重要的事情要说三遍，而且土豆的硬软也不一样，平时吃的感觉还行，今天感觉特别少，根本吃不饱的感觉，就像喝凉水阴了一口嗓子的感觉，所以能感觉出来给的有多么少了，可能是我是团购的！我是团购的！我是团购的！我这样安慰自己。。还有一点别的鸡公煲的米饭都是不限量吃，就你们家要钱给多点也就算了，大碗的还要2元。说实话别的地方的宋氏鸡公煲不是不知道，米饭也是免费的！！！请你们想一想吧……还有矿泉水一块的不卖！为什么！为什么！每次服务员说一块的矿泉水不卖的时候还很牛的样子？不卖你骄傲？哎，有的时候就是不懂这些都是为什么。\"\n",
            "gold: 1\n",
            "pretict: 2\n",
            "**********************************************\n",
            "\"说实话，看了那么多不好的点评，还是想去试一试的我，在真的尝试之后，也是只能说no zuo no die why u try了。服务倒是挺好的。最让人心痛的是那个烤鸡和烤肉的双拼，最后一个上的，真的是难吃的无与伦比，烤肉很肥腻，烤鸡说不出的味道，也不配个酱，只能蘸醋吃解解腻。菌菇卷外面的金针菇还好，但是包在里面的金针菇我就很不能理解为什么是冰的。。。年糕可能是放了葱又放了鸡蛋，第一口我简直觉得太难吃了，后来吃吃汤里面的还能接受，不过真的是不好吃。梨汁还行。糖醋里脊还行，偏酸了一点，但是已经算好吃的一道菜了。鸡翅还行，就是油了点，最好配个吸油纸，不过只要8块钱一对。\n",
            "进门环境觉得很有特色，但是进去之后，那个位置排的太密了。\"\n",
            "gold: 1\n",
            "pretict: 2\n",
            "**********************************************\n",
            "\"可能因为今晚赶着下一轮包场的，烧烤鸡翅2分钟就上了，不知道是否翻烤的？上次来吃都很棒，这次的水准下降，证明水平不稳定，蟹拌面咸的可以当下饭菜。问了3次服务员如何处理都没有答复！所以这个菜可以直接差评。烤土豆上来不是脆的，而且土豆都是因为氧化变黑了，和上一次吃的又脆又香的土豆片去哪了？这次以为还像上次的好吃，一来就点两份，都按上次来吃过好吃的点，谁知道被骗了。服务员毫无表态，就欺负善良人。这次就一个生蠔品质和酒糟汤丸还可以。\"\n",
            "gold: 1\n",
            "pretict: 2\n",
            "**********************************************\n",
            "\"对于味道总体有些失望。要的咖喱鱼蛋，腊味煲仔饭。咖喱鱼蛋就是普通的咖喱味道的，是有一点辣度的咖喱，算微辣吧，可以当小吃。腊味煲仔饭，这里的做法是把米饭（香米）蒸熟拿到餐桌上，当着客人的面把腊味倒入锅中加入调料拌匀，并不是腊味放到米饭中一起蒸的，对于做法持怀疑态度。锅底的米饭会有锅巴，米饭也比较硬，不喜欢硬米饭的人不要尝试。可能菜单有所调整，没有找到网上说的虾饺一类的点心。餐具，尤其是杯子感觉不是很干净。总体有些失望。没有拍照。不过服务员态度很好。\"\n",
            "gold: 1\n",
            "pretict: 2\n",
            "**********************************************\n",
            "\"我是在微信上看到别人宣传这家店的，然后发现大众点评有团购券，之后约上小伙伴在周末的晚上去了。首先要说停车，虽然后面有个停车场，但是好像不是饭店专用，所以不是十分好停车。看着四格的锅原以为是可以点四种口味的锅底，谁知道其实是四个格子每两种一个口味，和鸳鸯锅是一样的，上菜很慢，本来周末晚上就和朋友从南边过去特别堵，饿的一塌糊涂，结果等菜等的我望眼欲穿，好不容易菜上来了，先烫了金针菇，吃到嘴后发现他们家辣汤比一般要辣一些也不知道是不是金针菇格外吸辣油。他们家的菜挺有特色，有一些是外面没有的，我就记得我点的紫薯滑了，但不是很好吃。火焰牛肉听说特别辣，也是他们家的特色，但是上菜后也就发现火焰牛肉就是牛肉上裹着辣椒面，烫熟以后吃的就是辣椒面的味道，跟变态鸡翅一样，菜本身味道是没有的。特别说明一点他家的酸梅汤很淡，不好喝，我们点了一扎最后用来洗牛肉上的辣椒面了。价位不算便宜。\"\n",
            "gold: 1\n",
            "pretict: 2\n",
            "**********************************************\n",
            "\"第二次来。这次来吃酸菜鱼火锅，服务员好努力的销58一位的自助火锅，好卖力，我团好了券就不想改计划了婉拒之后服务员又hard sale各种饮料和飞饼。想说经理开会了吧执行不错可惜全程销的很生硬感觉不buy她的客人就做错事了一样，服务员带着不开心的脸走开了。酸菜鱼这次好酸呀额滴神，比冬阴公汤还酸，吃完鱼噜菜和面劲觉得好酸好酸。上饭那个男员工指甲有1cm那么长吧，瞬间觉得好恶心。最后隔壁桌有个素质极低的女的（见图绿裙biao），一声不吭跑来我的台上倒她的洗碗水！真是一声不吭！旁若无人当我这桌的人是空气，尼玛你桌上没缸你特马不会叫服务员拿给你吗？别人桌上的缸她理所当然老倒邋遢洗碗水！这特马什么素质！没下次。\"\n",
            "gold: 1\n",
            "pretict: 0\n",
            "**********************************************\n",
            "\"因为我是团了三张，所以再写一次点评，除了之前觉得食物糟糕卫生不行外，又想到一件事，和爸妈一起去的，结账的时候，我想说看看团购有没有优惠一点，问了一下结账的女服务生，女服务员不确定说是要去问一下，结果旁边一男服务生大声喊节假日没有团购，我不确定，我自己上网看了一下，明明写的是周六，周日没有，并没有说明节假日不行，后来女服务生回来告诉我可以用，于是我也是呵呵了，本来吃的就糟心了，明明五点去的，上菜还奇慢无比，而且我是周五去的，真心无语，不过女服务生态度还可以，就这样吧\"\n",
            "gold: 1\n",
            "pretict: 0\n",
            "**********************************************\n",
            "\"如果专门跑一趟，大概就算了，因为看起来就没有美美哒的样子…碰巧到这里，换了招行的爆浆面包，本来是一只爆浆面包一只菠萝包，因为菠萝包木有了，所以给换咯两只爆浆…虽然是免费的，但是真心太不好吃了。先说说面包体，不是水分充足的欧包派，也不是柔软细腻的小面包的感觉，完全其他连锁比如面包新语、味多美、好利来的感觉好，比较发干，像小时候的老式面包。然后内馅是稠稠黏黏糊糊一团，不早说爆浆啦，完全不流动好吗，像卡仕达酱里又加了好多粉糊糊的。我不禁很想念家乡的罗莎，咬一口鲜奶油就喷涌而出，那个才是爆浆…不过店面宽敞，人不多，服务态度也还不错~\"\n",
            "gold: 1\n",
            "pretict: 2\n",
            "**********************************************\n",
            "\"同学结婚在这，应该是有两个厅，一个龙凤厅一个玫瑰厅，进去后摆个十几桌应该是有，都是在中间搭出来典礼，还算好，这都不是重点，重点是东西味道真不老行的，确实也有硬克菜，但是也够一般的感觉，期间我们桌吃的不怎么多所以好多菜没怎么下没地放新上来的菜，然后上菜时端下去说给换小碟子，结果拿走的除了有一个说把那个给我们换完小碟拿回来剩下的都不知道换完后哪去了……也是服了，同桌有人调侃咱这桌换小蝶的就没有回来的，而且期间还有个螃蟹，螃蟹真不怎么新鲜呀，不知道是时间长了呢还是压根就坏了，所以一桌菜几乎是没怎么动，一看大家发的都是同样菜色，甜点做的也够一般好像驴打滚，然后就最后上来的西瓜还算甜还好，反正一桌菜几乎是全剩下了，也就地点还好，在海光寺，剩下的我也是比较无语了，不过还是要祝同学幸福\"\n",
            "gold: 1\n",
            "pretict: 2\n",
            "**********************************************\n",
            "\"完全冲着名气去的，其实上海也有，但是从来没有去过，不过既然去了绍兴，总归是要尝尝的。门口买茴香豆和黄酒景点组合的比较多，走进里面后，发现内有乾坤。首先人很多，以为要拿号等位，结果服务员非常嫌弃的回答我，自己找位置。然后就是去买卡充值，10块卡的押金，吃完卡里剩余的钱和押金一起退。拿着卡就去类似学校食堂窗口排队，国人素质大家懂的，插队的好多，等到后很多想点的菜都没有了。你点完菜自给端到饭桌，吃完走人。绍兴菜普遍偏咸，也没吃出啥特别好吃的，也就这样。\"\n",
            "gold: 1\n",
            "pretict: 2\n",
            "**********************************************\n",
            "\"龙之梦已经没什么店可以拔草了 乘了直达到7楼 看到这个新开的 而且在朋友圈看有人去 感觉还不错 就想进去试下 在入口左手边是先付钱买票\n",
            "入口处像闸机一样的设置 凭票进入\n",
            "自助式的火锅 还有各式油炸 刺身等种类 但是东西并不是很多 而且刺身一般般 口感不好\n",
            "限时用餐2小时 基本上都是一进去之后就开始各种拿盘子夹东西\n",
            "用了大众的优惠 晚餐89一人 感觉真的没什么东西吃\n",
            "性价比不高 有些盘子就剩下点配菜了也没人更换\n",
            "下次不会去吃\"\n",
            "gold: 1\n",
            "pretict: 2\n",
            "**********************************************\n",
            "\"就在公司那里，一直没去，因为楼下门口脏兮兮，真的没吸引力。今天男朋友想吃火锅，就近来了这家。电梯上3楼，环境不错。生意也还不错哦。一人一个小锅，我点的番茄锅，男朋友麻辣锅。我的番茄锅里没有番茄味……超普通的。然后点了金针菇，豌豆苗，毛肚，德天肥牛，手工牛肉丸，虾滑。可能要来姨妈了，特别能吃，吃完以上觉得不过瘾，又加了羊肉和玉米饼。来说说菜品吧。金针菇特别白…你们懂得。豌豆苗没啥可说，挺干净的。的天肥牛一般，一下锅就散了，后加的羊肉简直了，我家做羊肉生意的，一吃就吃出来了，这哪是特么羊肉，骚味特大，还特不对劲！毛肚不新鲜，个别几片都特么干了，吃着好像在吃纸。手打牛肉丸，不弹牙。虾滑尚可。玉米饼感觉是翎粉放多了，玉米烙做失败了的产物…也不知道5星都怎么给的，我感觉一般的不要再一般了。自助酱料6元一位，种类还可以，有西瓜，哈密瓜，蚕豆，拌云丝，各种酱料，我只用了海鲜酱油。\n",
            "可能这家是吃海鲜比较出名吧，我跟男朋友一个海鲜也没点…所以觉得一般。倒不是说有多差，只是觉得达不到我心目中5颗星星的标准，略失望。\"\n",
            "gold: 1\n",
            "pretict: 2\n",
            "**********************************************\n",
            "\"新开的店 价格还算实惠 感觉是模仿外婆家那种 环境吵吵的 随便吃吃可以。\n",
            "菜单上的葱油二鲜是花蛤和蛏子 结果上来就变成文蛤和花蛤了。。烧好的花蛤 一般要么闭合 要么张开(但两半的贝壳是连起来的) 但这家的花蛤半个贝壳没有一个连起来 都是断裂的！有图为证 我和朋友都觉得这些贝壳 极有可能是重复使用的 鱼目混珠啊！且这一盘菜里的蛤肉不多 四分之三都是贝壳\n",
            "后来找服务员说了这事 不能退 只能换价位相近的菜(然后立马把之前那菜撤盘了。。。怕顾客拍照么。。) 于是点了干锅黄花鱼 含3条中等偏大的黄鱼 味道还可以 有不少洋葱 但就是油了点。\n",
            "其他点了杭白菜炒腐皮(菜单上的腐皮宽度正常 上来的是腐皮丝。。。) 铁板牛仔骨(里面菌菇不少) 上述两个很多油 不健康啊\n",
            "虾饺(这个不错 小小的 香香的 馅也算健康) 冷菜点了杏鲍菇 居然是冰的←_← 没吃多少\n",
            "以后不会再去\"\n",
            "gold: 1\n",
            "pretict: 2\n",
            "**********************************************\n",
            "\"习惯性给个好评，但是说实话，的确不怎么样。买的时候我闲着无聊跟男朋友说，贼+的比这个要大份哦，因为我看到他家的鱿鱼没有贼加的大，男朋友看了眼价格表说，贼家的还有便宜一些吧，我看了一眼，是要便宜两块钱。这家的鱿鱼是20元一个。然后服务员不开心的说了，我们家的鱿鱼比贼加的好吃。那好吧。之后吃鱿鱼了，我勒个去，什么叫好吃啊，鱿鱼也太闲了吧，我跟男朋友开玩笑说，都可以过饭吃了。鱿鱼是提前腌制过的，而且是用很多盐腌制的，可想而知，原因估计是鱿鱼不新鲜，所以才要加量腌制的吧。姐姐眼挫，以后不会再买了\"\n",
            "gold: 1\n",
            "pretict: 2\n",
            "**********************************************\n",
            "\"提前一个礼拜预订了虹梅店，以前一直吃的是浦东两个店。一直都很喜欢蓝蛙，之前每次都是brunch或者夜宵，这次订的晚餐，万万没想到虹梅路这家店让我失望透顶！！\n",
            "\n",
            "首先今天来的时候正好门口再搞啤酒节，音响放的震耳欲聋，进去后想找个稍微轻一点的位置也没有，这就算了，毕竟不怪蓝蛙，但是这家虹梅路店装修格调和浦东的差的也太多了吧，桌子沙发都旧旧的，灯光也不是浦东的暗色调，女厕所臭气熏天。。没想到环境这么差只是刚开了个头。\n",
            "\n",
            "因为太吵，想早早吃完走人，点了肉丸意大利面、招牌鸡翅、蘑菇汉堡、牛肉迷你汉堡和芝士蛋糕。光拿菜单、点单和请服务员倒水就足足叫了5，6次！而当时都还没什么客人入座，这服务态度和嘉里城店、国金店完全不能比。\n",
            "\n",
            "#鸡翅：这个鸡翅我每次必点。点菜后这个也是差不多5分钟就上来了。鸡翅温的，和以前别家店现炸的热烫感完全不同，颜色也偏深。吃了一块翅根，非常干硬！不知是炸过两遍还是时间过长，和以前吃到的鲜嫩口感完全不同。失望至极！\n",
            "\n",
            "#迷你牛肉汉堡：这个也是以前在嘉里城店吃brunch点过的。上来摆盘歪歪扭扭，样子很难看都让人没了食欲，汉堡的面包像批发来的一点没面包香气，牛肉饼更是普通到极点。难怪有人评价还不如麦当劳，真的是不如。\n",
            "\n",
            "#蘑菇汉堡：牛肉饼要的7分熟切开来却是红色的，口感木乎乎的，味道淡而无味。吃到这个的时候我已经后悔到极点，蓝蛙那么多分店，就不该来这个脏乱差的老外街这家！\n",
            "\n",
            "#肉丸意大利面：唯一能吃的菜，也大概是前面这几道让我的味蕾降低了判断标准的结果。\n",
            "\n",
            "#巧克力蛋糕：点的是芝士蛋糕，吃饭前吃完了也迟迟不见上甜点，便催服务员上蛋糕，服务员一脸疑问说你们没确认要点吧。真是太无语了！因为爱吃甜点所以我点的第二个就是芝士蛋糕！跑去下单后过了好久服务员又回来，说芝士蛋糕没了，行吧，那就换巧克力的吧。又是等了差不多15分钟，终于上了蛋糕，满心期待的挖了一勺，硬的跟布朗尼一样！我还从来没有吃过那么坚硬的巧克力蛋糕！至此，真顿饭真是绝望透顶，果断退了这道垃圾甜点，速速买单。\n",
            "\n",
            "蓝蛙我可能还是会再去，但是一定一定不会是虹梅路这家！另外，和老外街其他店比起来，这家店没什么人气，看来连老外也不会上两次当。\"\n",
            "gold: 1\n",
            "pretict: 2\n",
            "**********************************************\n",
            "\"不得不说，这是一次非常不愉快的用餐体验，订了268的餐标，以为能比第一次吃的188的要好些，谁知道更失望，吃到虫不说，买单时叫老板打折，也硬是没有搭理我，没有打折！卫生也不满意，看这个水壶，有图有真相，简直理解不了，环境更是简陋至极，在这样的冬天坐在阳台吹风的感觉真是“好极了”！服务更是没得说，一会儿普通话，一会儿四川话，哇，还好四川话不难懂！渣盘满了都没人主动来换，纸巾没有了也要找老板要！菜品更是“一绝”，前菜太忽悠人了，其中一个是琥珀桃仁，花两百多大洋到私房菜吃这个，真的无语到极点，汤更是“极品”，除了味精鸡精味道，还是味精鸡精味道，还是味精鸡精味道，重要的事情说三遍，关键还是素的！再来说说这个冰草的碟子，哇，鱼腥草，除了鱼腥草味就只剩下辣了，辣的跳！总之很失望，姐赌咒发誓不可能再来了，要来的小伙伴们慎重啊！\"\n",
            "gold: 1\n",
            "pretict: 2\n",
            "**********************************************\n",
            "\"没什么好吃的，东西不熟的，我吃完回来就拉肚子，拉了4次，吃的东西其实跟东莞的光明市场差不多，三文鱼有味道的，不新鲜的，长脚蟹也不新鲜的，有的还臭的，虾就不用多说了，烧生蚝那些的，也没什么特色，生蚝很小的，可能是最便宜进货的那种，我记得上次去，就没有团购去的，感觉还好，不知道现在是不是因为有团购了，东西都差了，吃进嘴里的，再不好吃也要保证质量，保持新鲜吧，真的，我吃要就即可上厕所了，说真的，真的很失望\"\n",
            "gold: 1\n",
            "pretict: 2\n",
            "**********************************************\n",
            "\"我觉得我上当了，没有之一。\n",
            "外地人开的骗火车站附近的人\n",
            "工作路过，我还犹豫了一下，是不是嘿店，敢不敢进去？\n",
            "后来看着门头上写着诚信经营赚良心钱就试着进去看了看。\n",
            "面皮，米皮比外面贵一块钱，不是个事，但是当他端上来炒米皮的一刻，我后悔了。\n",
            "颜色香味全无，再尝上一口，咸死人了。\n",
            "我和老板说太咸，老板说我们都是按量放的，不会咸的，我让他拿筷子夹一口尝尝，他说不用尝，他吃的口味重，肯定不咸。\n",
            "我让他给我往面皮里倒了些白水，老板问我是不是南方人，口味淡，我说是本地人，他说我们是不会做咸的，直到现在我已经喝了两大缸水了，真好，今天终于喝的进去这么多水了。\n",
            "米皮没有劲道，软的不好吃，哎，七块大洋就这样糟蹋了，老板又赚到了良心钱\"\n",
            "gold: 1\n",
            "pretict: 2\n",
            "**********************************************\n",
            "\"为什么这么多人要排队等这个吃呢？今天中午我是看这里不排队才吃的，真心的不好吃，华而不实。先说位置，就在德基8楼，一期的楼上，周边还有鸿霖，鱼四季，对面还有牛排馆，交通很方便。再说菜，海鲜大汇总，一份98.9元，就是放了点小螃蟹，几个花蛤，几个虹口贝，小螃蟹里面什么肉都没有，好多洋葱，特别浓的黑椒味道，实在难以下咽。点的拼盘炸篮，全是油炸的食物，有秋葵，山芋条，虾和鸡块，不好吃，没营养。点了一份冰饼，味道还可以，甜甜的，小孩子吃的。点的主食是一份海鲜饭，里面4个虾子，两三个花蛤，一颗西兰花，饭是咖喱椰浆拌饭，味道尚可，59一份，坑爹，太贵，在家做的肯定比这个好吃。还有一份主食也是59元，叫海鲜意面，黑椒味道还多了，都要吃吐了，不好吃，东西上来一点点，图片很大一盘，食物的盘子跟你一只手一样大。总体评价不满意，不想再来了！\"\n",
            "gold: 1\n",
            "pretict: 2\n",
            "**********************************************\n",
            "\"无功无过吧。反正是去过一次不会去第二家的店。团购是不含汤底的，这点还是满奇葩的，不过有提供一包餐巾纸还是比较实用的，冬阴功汤味道有点淡。服务整体态度好评，还会主动过来给你换盘子和加汤。不过吃的就一般了。大概是冷藏久了，雪蟹腿已经有点空了，其他的蟹类也是。贝壳类和海参感觉还行吧。生鱼片两种都不新鲜，吃口很差，不建议拿。饮料除了自助一般会有的软饮外还提供了四种茶类，还是比较好评的。抱着很大希望去的，有点失望，不过这个价格也不能说啥了，只能说下次还是会选择更好的店吃海鲜吧。另外希望店家对于浪费行为给予一定处罚，我们隔壁桌子两个小姑娘离开的时候一桌子的食物。\"\n",
            "gold: 1\n",
            "pretict: 2\n",
            "**********************************************\n",
            "\"之前见这店评论很高 。所以本大嘴要来验证一下。点了炙烤肉眼。这个菜完全就是货不对版。吃过超多家的肉眼。这个的确有些失望 ，肉的汁没有被滚烫的石板锁住。反而端上来了的时候跟僵尸肉一般浑身血水。我倒要看看何方鬼怪。切了一小块尝了一下。肉又老又死已经丧失了弹性，跟注水肉一般。图片上面均匀的雪花也不见，什么鬼。尼玛我先见图片点餐。端上来东西却不供参考。还点了一个西冷牛排套餐。西冷牛排比较保守肉感让人感觉一般。就是普通菜市场牛肉感觉。不公不过沙拉比较袖珍。蘑菇汤勉强点个赞。还有个鸡肉披萨。真是普通面包店水平。懒的说细了。奶茶和柚子茶就是普通水平吧。说点装修这些吧。法式田园风格。各种餐具都印上了店铺的logo。去的时候是晚8点半的样子。上菜时间偏慢。最后结账，完全让人直接跌落谷底。竟几次推脱说叫我们下次来补开发票。后来态度强硬她们才给补开。要不要这样。没有要你打折，开个发票，还想赖皮，这里不带停车。停车自己停隔壁宾馆。\n",
            "总结一下：心诗牛排。心思花在花边耍滑上。没有花在厨艺和出品上。货不对版。赖发票。呵呵呵呵呵呵呵呵\"\n",
            "gold: 1\n",
            "pretict: 2\n",
            "**********************************************\n",
            "\"满怀希望去请爹爹吃饭 但这次真的让我大失所望 青年餐厅很讲究的餐厅 因为每个餐厅的装修和主题都不一样 所以很想其实是别的餐厅会给人什么感觉 第一次去的是河东万达店 感觉超级棒 所以就直接办了饭卡 之后去了乐园店 感觉有点小 但 菜品味道超级棒 这次选了天津站店 为了晚上有优美的海河夜景 所以选择了它  但失望随至\n",
            "首先说环境真的很好 过了解放桥就到了 把着角很好找的 对面也都是酒店 很方便的 大门也很豪华 给人大气阔气的感觉 来这真的很高档 这是第一感觉 并且往左拐进去就是地铁口 去哪也都方便 地点觉得棒极了 进去里面有一楼大厅还有三楼包间 包间要以前预订 很大 大厅分为左右两厅 左侧大些 厕所在右侧小厅 厕所值得一提 因为很别致跟别的饭店不一样 显得很高档 特意照了几张给大家看看 有点古朴的欧洲风 但细节不到位 里面的服务设施（定型水等）不全 至少没有河东万达的全\n",
            "其次就是菜味 我就喜欢吃三杯鸡 真的没有味道 并且主要还很甜 唉 量不少 不太好吃 其他的点了两个 很一般的素菜 所以不太好 \n",
            "最后就是服务了 服务员很一般 不太会说话 也不笑 两个人手不够忙的\n",
            "最后结账的时候连哪个是会员价都不知道机器也不好用等了小二十分钟才完事 最后还把一个菜算错了 唉真的无语了 大家自己去体验吧 这是我的感觉 最后说一句没有会员价的有团购\"\n",
            "gold: 1\n",
            "pretict: 2\n",
            "**********************************************\n",
            "\"      看到评价这么好，出于对牛杂和面条的热爱，我和老公特意赶去吃的。不过还是失望了，相比较比杭州成名很早的潮州牛肉面差一点。首先汤头很咸很咸，几乎没法下口，其实汤还是熬出来的蛮有牛肉味，真的没必要加太多盐。一碗牛腩一碗牛杂，量相对于价格来说不是太多。牛杂有点咬不动，不是很酥烂的那种。\n",
            "      从一碗牛腩面还是感觉出杭州的水平比广州差一大截啊。去年广州随便路上一家牛腩面，第一价格要便宜，汤头清爽的来有牛肉的浓香，量也不少，很赞。杭州除了潮州牛肉面就找不出更好的，潮州牛肉面店说白了也是潮州人开的。\"\n",
            "gold: 1\n",
            "pretict: 2\n",
            "**********************************************\n",
            "\"极差的一次体验，本来看到其他人的差评，还抱着一丝希望去试试，结果超级后悔。先说上菜吧，我们8个人去吃饭，早早到店点好菜，等服务员端来一道菜后，刚开始感觉还好，结果后面的，基本上是15分钟上一道，晕，我们点了10多个菜，到最后3道菜后，基本上大家都不想再等后面的菜了，超咸的菜。还有服务，等好久没人管，结账时，想用手机付款，还被服务员白眼……结完账，老人家不小心打破一个杯子，要赔偿10元，要不是小朋友哭闹想回家睡觉，真不想给那10元，不为金额，只考虑到有青岛大虾那种坑爹感觉。看来以后也不会再到这家店了……\"\n",
            "gold: 1\n",
            "pretict: 0\n",
            "**********************************************\n",
            "\"听同学说碉堡烤鱼好吃才来的，不知道是不是这家店的问题。首先地方就很难找，我走进店里问“这里是不是碉堡烤鱼？”服务员说“不是，这里是海酷。”出去问人，别人又把我带进来，说“海酷就是碉堡烤鱼。”服务员都不知道自己在什么地方工作吗？\n",
            "上菜非常难，菜也很难吃，烤鱼没有烤过，而且明显养殖了好几天，不新鲜了；酸汤肥牛不好吃；只有水煮肉片味道不错，就是肉太少了，满盆都是豆芽菜；紫薯汁是假的。喊服务员来倒点开水，都没人理我们。\"\n",
            "gold: 1\n",
            "pretict: 2\n",
            "**********************************************\n",
            "\"原来有团购的时候没机会来，这次刚好跟朋友来午餐。午市有套餐，几十块钱，有很小份的汤、沙拉和蛋，我们点了一份三文鱼炒饭，味道很不咋地，估计这些午市套餐都不咋样吧。朋友很爱刺身，服务员一直在推销，推销一些很贵的产品，我们试了一个池鱼皇，味道的确不错，口感很好，此外点的帆立贝、三文鱼、三文鱼腩、北极贝都不是特别出彩，不过不失。价格的话单点其实没有比套餐贵多少，大家记得不要让服务员忽悠了。另外两人各点了海胆甜虾寿司，这个分量不太大，但味道很不错。一份三文鱼骨，味道很咸，我就只吃了一块。套餐可以加8块有喝的，我点了一杯日式海盐青柠，去冰，味道还不错。一顿下来买单291，虽说可以有点评支付优惠，但是优惠15而已。朋友要打发票，就没用那个直接刷卡了。真心贵啊，下次再来的几率很低了。\"\n",
            "gold: 1\n",
            "pretict: 2\n",
            "**********************************************\n",
            "\"第一次去的时候是2点左右 餐厅说已经闭店了 后来又去了一次 也是比较晚 仍然跟我说闭店了 不过看我是一个人就让我进了 其实这家还算长草很久的一家店呢 没点海鲜拼盘 因为自己吃不了 看别人点的好像要倒在桌子上用手吃 感觉很爽的样子 想吐槽一下我点的海鲜焗饭 58一份吧 量不大  里面的料其实还是挺足的 有鲍鱼 青口 虾等等 但是不怎么入味 而且里面居然有一些壳类的碎渣 实在是不能忍 就好像吃米饭吃到蛋壳的那种感觉 建议还是处理干净吧\"\n",
            "gold: 1\n",
            "pretict: 2\n",
            "**********************************************\n"
          ],
          "name": "stdout"
        }
      ]
    },
    {
      "cell_type": "code",
      "metadata": {
        "id": "Xz7HGWKZaAnZ",
        "colab_type": "code",
        "colab": {
          "base_uri": "https://localhost:8080/",
          "height": 107
        },
        "outputId": "4fbfb36f-3ab5-4529-bc6d-202909c1ca84"
      },
      "source": [
        "at_model.save('att_model')"
      ],
      "execution_count": 56,
      "outputs": [
        {
          "output_type": "stream",
          "text": [
            "WARNING:tensorflow:From /usr/local/lib/python3.6/dist-packages/tensorflow/python/ops/resource_variable_ops.py:1817: calling BaseResourceVariable.__init__ (from tensorflow.python.ops.resource_variable_ops) with constraint is deprecated and will be removed in a future version.\n",
            "Instructions for updating:\n",
            "If using Keras pass *_constraint arguments to layers.\n",
            "INFO:tensorflow:Assets written to: att_model/assets\n"
          ],
          "name": "stdout"
        }
      ]
    },
    {
      "cell_type": "code",
      "metadata": {
        "id": "BV9kbm03a5DQ",
        "colab_type": "code",
        "colab": {
          "base_uri": "https://localhost:8080/",
          "height": 34
        },
        "outputId": "1fe4f8bb-d1d3-409b-a8a1-83e0b0b545cc"
      },
      "source": [
        "os.path.dirname('/drive/')"
      ],
      "execution_count": 72,
      "outputs": [
        {
          "output_type": "execute_result",
          "data": {
            "text/plain": [
              "'/drive'"
            ]
          },
          "metadata": {
            "tags": []
          },
          "execution_count": 72
        }
      ]
    }
  ]
}